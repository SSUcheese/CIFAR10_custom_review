{
 "cells": [
  {
   "cell_type": "code",
   "execution_count": 1,
   "id": "86e374a4",
   "metadata": {
    "_cell_guid": "b1076dfc-b9ad-4769-8c92-a6c4dae69d19",
    "_uuid": "8f2839f25d086af736a60e9eeb907d3b93b6e0e5",
    "execution": {
     "iopub.execute_input": "2024-02-11T08:29:04.915916Z",
     "iopub.status.busy": "2024-02-11T08:29:04.915029Z",
     "iopub.status.idle": "2024-02-11T08:29:05.768667Z",
     "shell.execute_reply": "2024-02-11T08:29:05.767870Z"
    },
    "papermill": {
     "duration": 0.871718,
     "end_time": "2024-02-11T08:29:05.771050",
     "exception": false,
     "start_time": "2024-02-11T08:29:04.899332",
     "status": "completed"
    },
    "tags": []
   },
   "outputs": [],
   "source": [
    "# This Python 3 environment comes with many helpful analytics libraries installed\n",
    "# It is defined by the kaggle/python Docker image: https://github.com/kaggle/docker-python\n",
    "# For example, here's several helpful packages to load\n",
    "\n",
    "import numpy as np # linear algebra\n",
    "import pandas as pd # data processing, CSV file I/O (e.g. pd.read_csv)\n",
    "\n",
    "# Input data files are available in the read-only \"../input/\" directory\n",
    "# For example, running this (by clicking run or pressing Shift+Enter) will list all files under the input directory\n",
    "\n",
    "import os\n",
    "for dirname, _, filenames in os.walk('/kaggle/input'):\n",
    "    for filename in filenames:\n",
    "        print(os.path.join(dirname, filename))\n",
    "\n",
    "# You can write up to 20GB to the current directory (/kaggle/working/) that gets preserved as output when you create a version using \"Save & Run All\" \n",
    "# You can also write temporary files to /kaggle/temp/, but they won't be saved outside of the current session"
   ]
  },
  {
   "cell_type": "markdown",
   "id": "5f465e0e",
   "metadata": {
    "papermill": {
     "duration": 0.011504,
     "end_time": "2024-02-11T08:29:05.794978",
     "exception": false,
     "start_time": "2024-02-11T08:29:05.783474",
     "status": "completed"
    },
    "tags": []
   },
   "source": [
    "# CIFAR10 datasets를 통해서 해당 데이터를 분류하는 모델을 만든다."
   ]
  },
  {
   "cell_type": "code",
   "execution_count": 2,
   "id": "97822dc0",
   "metadata": {
    "execution": {
     "iopub.execute_input": "2024-02-11T08:29:05.820635Z",
     "iopub.status.busy": "2024-02-11T08:29:05.819904Z",
     "iopub.status.idle": "2024-02-11T08:29:05.827436Z",
     "shell.execute_reply": "2024-02-11T08:29:05.826474Z"
    },
    "papermill": {
     "duration": 0.02215,
     "end_time": "2024-02-11T08:29:05.829328",
     "exception": false,
     "start_time": "2024-02-11T08:29:05.807178",
     "status": "completed"
    },
    "tags": []
   },
   "outputs": [],
   "source": [
    "%config Completer.use_jedi = False"
   ]
  },
  {
   "cell_type": "code",
   "execution_count": 3,
   "id": "ceb9cd12",
   "metadata": {
    "execution": {
     "iopub.execute_input": "2024-02-11T08:29:05.855765Z",
     "iopub.status.busy": "2024-02-11T08:29:05.855120Z",
     "iopub.status.idle": "2024-02-11T08:29:24.806167Z",
     "shell.execute_reply": "2024-02-11T08:29:24.805226Z"
    },
    "papermill": {
     "duration": 18.96719,
     "end_time": "2024-02-11T08:29:24.808410",
     "exception": false,
     "start_time": "2024-02-11T08:29:05.841220",
     "status": "completed"
    },
    "tags": []
   },
   "outputs": [
    {
     "name": "stderr",
     "output_type": "stream",
     "text": [
      "2024-02-11 08:29:08.116324: E external/local_xla/xla/stream_executor/cuda/cuda_dnn.cc:9261] Unable to register cuDNN factory: Attempting to register factory for plugin cuDNN when one has already been registered\n",
      "2024-02-11 08:29:08.116451: E external/local_xla/xla/stream_executor/cuda/cuda_fft.cc:607] Unable to register cuFFT factory: Attempting to register factory for plugin cuFFT when one has already been registered\n",
      "2024-02-11 08:29:08.286115: E external/local_xla/xla/stream_executor/cuda/cuda_blas.cc:1515] Unable to register cuBLAS factory: Attempting to register factory for plugin cuBLAS when one has already been registered\n"
     ]
    },
    {
     "name": "stdout",
     "output_type": "stream",
     "text": [
      "Downloading data from https://www.cs.toronto.edu/~kriz/cifar-10-python.tar.gz\n",
      "170498071/170498071 [==============================] - 2s 0us/step\n",
      "(50000, 32, 32, 3)\n",
      "(50000, 1)\n"
     ]
    }
   ],
   "source": [
    "# cifar10 dataset을 통해 classification model을 만든다.\n",
    "\n",
    "from tensorflow.keras.datasets import cifar10\n",
    "\n",
    "(train_images, train_labels), (test_images, test_labels) = cifar10.load_data()\n",
    "print(train_images.shape)\n",
    "print(train_labels.shape)"
   ]
  },
  {
   "cell_type": "code",
   "execution_count": 4,
   "id": "04e8aa87",
   "metadata": {
    "execution": {
     "iopub.execute_input": "2024-02-11T08:29:24.840630Z",
     "iopub.status.busy": "2024-02-11T08:29:24.840070Z",
     "iopub.status.idle": "2024-02-11T08:29:24.846247Z",
     "shell.execute_reply": "2024-02-11T08:29:24.845286Z"
    },
    "papermill": {
     "duration": 0.025427,
     "end_time": "2024-02-11T08:29:24.849280",
     "exception": false,
     "start_time": "2024-02-11T08:29:24.823853",
     "status": "completed"
    },
    "tags": []
   },
   "outputs": [
    {
     "name": "stdout",
     "output_type": "stream",
     "text": [
      "[[[ 59  62  63]\n",
      "  [ 43  46  45]\n",
      "  [ 50  48  43]\n",
      "  ...\n",
      "  [158 132 108]\n",
      "  [152 125 102]\n",
      "  [148 124 103]]\n",
      "\n",
      " [[ 16  20  20]\n",
      "  [  0   0   0]\n",
      "  [ 18   8   0]\n",
      "  ...\n",
      "  [123  88  55]\n",
      "  [119  83  50]\n",
      "  [122  87  57]]\n",
      "\n",
      " [[ 25  24  21]\n",
      "  [ 16   7   0]\n",
      "  [ 49  27   8]\n",
      "  ...\n",
      "  [118  84  50]\n",
      "  [120  84  50]\n",
      "  [109  73  42]]\n",
      "\n",
      " ...\n",
      "\n",
      " [[208 170  96]\n",
      "  [201 153  34]\n",
      "  [198 161  26]\n",
      "  ...\n",
      "  [160 133  70]\n",
      "  [ 56  31   7]\n",
      "  [ 53  34  20]]\n",
      "\n",
      " [[180 139  96]\n",
      "  [173 123  42]\n",
      "  [186 144  30]\n",
      "  ...\n",
      "  [184 148  94]\n",
      "  [ 97  62  34]\n",
      "  [ 83  53  34]]\n",
      "\n",
      " [[177 144 116]\n",
      "  [168 129  94]\n",
      "  [179 142  87]\n",
      "  ...\n",
      "  [216 184 140]\n",
      "  [151 118  84]\n",
      "  [123  92  72]]]\n",
      "[6]\n"
     ]
    }
   ],
   "source": [
    "# 첫번째 이미지에 대한 정보 확인\n",
    "\n",
    "print(train_images[0,:,:])\n",
    "print(train_labels[0,:])"
   ]
  },
  {
   "cell_type": "code",
   "execution_count": 5,
   "id": "4b9c5feb",
   "metadata": {
    "execution": {
     "iopub.execute_input": "2024-02-11T08:29:24.882693Z",
     "iopub.status.busy": "2024-02-11T08:29:24.882428Z",
     "iopub.status.idle": "2024-02-11T08:29:24.888546Z",
     "shell.execute_reply": "2024-02-11T08:29:24.887578Z"
    },
    "papermill": {
     "duration": 0.024788,
     "end_time": "2024-02-11T08:29:24.890953",
     "exception": false,
     "start_time": "2024-02-11T08:29:24.866165",
     "status": "completed"
    },
    "tags": []
   },
   "outputs": [
    {
     "name": "stdout",
     "output_type": "stream",
     "text": [
      "[6]\n",
      "frog\n",
      "[9]\n",
      "truck\n",
      "[9]\n",
      "truck\n",
      "[4]\n",
      "deer\n",
      "[1]\n",
      "automobile\n",
      "[1]\n",
      "automobile\n",
      "[2]\n",
      "bird\n",
      "[7]\n",
      "horse\n",
      "[8]\n",
      "ship\n",
      "[3]\n",
      "cat\n"
     ]
    }
   ],
   "source": [
    "# train_labels 10개 출력\n",
    "NAMES = np.array(['airplane', 'automobile', 'bird', 'cat', 'deer', 'dog', 'frog', 'horse', 'ship', 'truck'])\n",
    "# print(train_labels[:10])\n",
    "\n",
    "for i in range(10):\n",
    "    print(train_labels[i])\n",
    "    print(NAMES[train_labels[i,0]])"
   ]
  },
  {
   "cell_type": "markdown",
   "id": "1b49b31d",
   "metadata": {
    "papermill": {
     "duration": 0.01697,
     "end_time": "2024-02-11T08:29:24.924849",
     "exception": false,
     "start_time": "2024-02-11T08:29:24.907879",
     "status": "completed"
    },
    "tags": []
   },
   "source": [
    "### CIFAR10 데이터 시각화\n",
    "* 이미지 크기는 32*32이며, RGB채널, 수식으로 표현하면 32*32*3\n",
    "* 이미지를 보면 전반적으로 label에 해당하는 대상이 가운데에 있고, 그 이미지에서 label 대상의 비중이 크다"
   ]
  },
  {
   "cell_type": "code",
   "execution_count": 6,
   "id": "54ae9d21",
   "metadata": {
    "execution": {
     "iopub.execute_input": "2024-02-11T08:29:24.958531Z",
     "iopub.status.busy": "2024-02-11T08:29:24.957851Z",
     "iopub.status.idle": "2024-02-11T08:29:27.757889Z",
     "shell.execute_reply": "2024-02-11T08:29:27.756952Z"
    },
    "papermill": {
     "duration": 2.819018,
     "end_time": "2024-02-11T08:29:27.760082",
     "exception": false,
     "start_time": "2024-02-11T08:29:24.941064",
     "status": "completed"
    },
    "tags": []
   },
   "outputs": [
    {
     "data": {
      "image/png": "[encoded data removed]",
      "text/plain": [
       "<Figure size 2200x600 with 8 Axes>"
      ]
     },
     "metadata": {},
     "output_type": "display_data"
    },
    {
     "data": {
      "image/png": "[encoded data removed]",
      "text/plain": [
       "<Figure size 2200x600 with 8 Axes>"
      ]
     },
     "metadata": {},
     "output_type": "display_data"
    }
   ],
   "source": [
    "import matplotlib.pyplot as plt\n",
    "%matplotlib inline\n",
    "\n",
    "def show_images(images, labels, ncols=8):\n",
    "    figure, axs = plt.subplots(figsize=(22,6), nrows=1, ncols=ncols)\n",
    "    for i in range(ncols):\n",
    "        axs[i].imshow(images[i])\n",
    "        label = labels[i].squeeze()  # 원래 labels가 2차원 데이터로 들어오는데 이걸 1차원으로 축소\n",
    "        axs[i].set_title(NAMES[int(label)])\n",
    "\n",
    "show_images(train_images[:8], train_labels[:8], ncols=8)\n",
    "show_images(train_images[8:16], train_labels[8:16], ncols=8)"
   ]
  },
  {
   "cell_type": "markdown",
   "id": "a5eb2d88",
   "metadata": {
    "papermill": {
     "duration": 0.017104,
     "end_time": "2024-02-11T08:29:27.794631",
     "exception": false,
     "start_time": "2024-02-11T08:29:27.777527",
     "status": "completed"
    },
    "tags": []
   },
   "source": [
    "### data preprocessing\n",
    "* iamge array의 0 ~ 255 사이의 값으로 되어 있는 pixel intensity 값을 0 ~ 1 사이 값으로 변환. 각 pixel을 255.0으로 나눈다.\n",
    "* label array는 숫자형 값으로 바꾸고 이후 one hot encoding을 적용할지 선택한다. 이번 모델은 one hot encoding을 적용하지 않는다.\n",
    "* image array, label array 모두 np.float32로 형변환. np.float32는 tensor 변환시 tf.float32로 변환되어 기본적으로 tensorflow backend keras는 tf.float32를 기반으로 한다."
   ]
  },
  {
   "cell_type": "code",
   "execution_count": 7,
   "id": "870c7d93",
   "metadata": {
    "execution": {
     "iopub.execute_input": "2024-02-11T08:29:27.832211Z",
     "iopub.status.busy": "2024-02-11T08:29:27.831325Z",
     "iopub.status.idle": "2024-02-11T08:29:28.596387Z",
     "shell.execute_reply": "2024-02-11T08:29:28.595482Z"
    },
    "papermill": {
     "duration": 0.786377,
     "end_time": "2024-02-11T08:29:28.598894",
     "exception": false,
     "start_time": "2024-02-11T08:29:27.812517",
     "status": "completed"
    },
    "tags": []
   },
   "outputs": [],
   "source": [
    "# label은 one hot encoding이 keras에서 활용이 용이하나 이번에는 sparse categorical crossentropy를 사용해보기 위해 적용하지 않는다.\n",
    "\n",
    "def get_preprocessed_data(images, labels):\n",
    "    \n",
    "    # 학습과 테스트 이미지 array를 0 ~ 1 사잇값으로 scale 및 float32로 변환\n",
    "    images = np.array(images/255.0, dtype=np.float32)\n",
    "    labels = np.array(labels, dtype=np.float32)\n",
    "    \n",
    "    return images, labels\n",
    "\n",
    "train_images, train_labels = get_preprocessed_data(train_images, train_labels)\n",
    "test_images, test_labels = get_preprocessed_data(test_images, test_labels)"
   ]
  },
  {
   "cell_type": "code",
   "execution_count": 8,
   "id": "d881d3a0",
   "metadata": {
    "execution": {
     "iopub.execute_input": "2024-02-11T08:29:28.637685Z",
     "iopub.status.busy": "2024-02-11T08:29:28.637368Z",
     "iopub.status.idle": "2024-02-11T08:29:28.645312Z",
     "shell.execute_reply": "2024-02-11T08:29:28.644243Z"
    },
    "papermill": {
     "duration": 0.029585,
     "end_time": "2024-02-11T08:29:28.647518",
     "exception": false,
     "start_time": "2024-02-11T08:29:28.617933",
     "status": "completed"
    },
    "tags": []
   },
   "outputs": [
    {
     "data": {
      "text/plain": [
       "array([[[0.23137255, 0.24313726, 0.24705882],\n",
       "        [0.16862746, 0.18039216, 0.1764706 ],\n",
       "        [0.19607843, 0.1882353 , 0.16862746],\n",
       "        ...,\n",
       "        [0.61960787, 0.5176471 , 0.42352942],\n",
       "        [0.59607846, 0.49019608, 0.4       ],\n",
       "        [0.5803922 , 0.4862745 , 0.40392157]],\n",
       "\n",
       "       [[0.0627451 , 0.07843138, 0.07843138],\n",
       "        [0.        , 0.        , 0.        ],\n",
       "        [0.07058824, 0.03137255, 0.        ],\n",
       "        ...,\n",
       "        [0.48235294, 0.34509805, 0.21568628],\n",
       "        [0.46666667, 0.3254902 , 0.19607843],\n",
       "        [0.47843137, 0.34117648, 0.22352941]],\n",
       "\n",
       "       [[0.09803922, 0.09411765, 0.08235294],\n",
       "        [0.0627451 , 0.02745098, 0.        ],\n",
       "        [0.19215687, 0.10588235, 0.03137255],\n",
       "        ...,\n",
       "        [0.4627451 , 0.32941177, 0.19607843],\n",
       "        [0.47058824, 0.32941177, 0.19607843],\n",
       "        [0.42745098, 0.28627452, 0.16470589]],\n",
       "\n",
       "       ...,\n",
       "\n",
       "       [[0.8156863 , 0.6666667 , 0.3764706 ],\n",
       "        [0.7882353 , 0.6       , 0.13333334],\n",
       "        [0.7764706 , 0.6313726 , 0.10196079],\n",
       "        ...,\n",
       "        [0.627451  , 0.52156866, 0.27450982],\n",
       "        [0.21960784, 0.12156863, 0.02745098],\n",
       "        [0.20784314, 0.13333334, 0.07843138]],\n",
       "\n",
       "       [[0.7058824 , 0.54509807, 0.3764706 ],\n",
       "        [0.6784314 , 0.48235294, 0.16470589],\n",
       "        [0.7294118 , 0.5647059 , 0.11764706],\n",
       "        ...,\n",
       "        [0.72156864, 0.5803922 , 0.36862746],\n",
       "        [0.38039216, 0.24313726, 0.13333334],\n",
       "        [0.3254902 , 0.20784314, 0.13333334]],\n",
       "\n",
       "       [[0.69411767, 0.5647059 , 0.45490196],\n",
       "        [0.65882355, 0.5058824 , 0.36862746],\n",
       "        [0.7019608 , 0.5568628 , 0.34117648],\n",
       "        ...,\n",
       "        [0.84705883, 0.72156864, 0.54901963],\n",
       "        [0.5921569 , 0.4627451 , 0.32941177],\n",
       "        [0.48235294, 0.36078432, 0.28235295]]], dtype=float32)"
      ]
     },
     "execution_count": 8,
     "metadata": {},
     "output_type": "execute_result"
    }
   ],
   "source": [
    "# 전처리 적용 여부 확인\n",
    "train_images[0]"
   ]
  },
  {
   "cell_type": "code",
   "execution_count": 9,
   "id": "d3517703",
   "metadata": {
    "execution": {
     "iopub.execute_input": "2024-02-11T08:29:28.685857Z",
     "iopub.status.busy": "2024-02-11T08:29:28.685567Z",
     "iopub.status.idle": "2024-02-11T08:29:28.690739Z",
     "shell.execute_reply": "2024-02-11T08:29:28.689758Z"
    },
    "papermill": {
     "duration": 0.027006,
     "end_time": "2024-02-11T08:29:28.692954",
     "exception": false,
     "start_time": "2024-02-11T08:29:28.665948",
     "status": "completed"
    },
    "tags": []
   },
   "outputs": [
    {
     "name": "stdout",
     "output_type": "stream",
     "text": [
      "(50000, 32, 32, 3) (50000, 1)\n"
     ]
    }
   ],
   "source": [
    "# keras는 CNN 2D 모델에 학습 데잍터 입력 시 반드시 image array는 4차원 배열이 되어야 한다.\n",
    "# rgb 채널 이미지 array는 기본적으로 3차원인데 여기서 이미지의 개수를 포함해서 4차원이 형성되는 구조다.\n",
    "# 만일 grayscale이 2차원 이미지 array라고 해도 의도적으로 채널을 명시해서 3차원으로 만들어 이미지 개수를 포함하면 4차원이 되도록 해야한다.\n",
    "\n",
    "print(train_images.shape, train_labels.shape)"
   ]
  },
  {
   "cell_type": "code",
   "execution_count": 10,
   "id": "58cde3f4",
   "metadata": {
    "execution": {
     "iopub.execute_input": "2024-02-11T08:29:28.733993Z",
     "iopub.status.busy": "2024-02-11T08:29:28.733645Z",
     "iopub.status.idle": "2024-02-11T08:29:28.739674Z",
     "shell.execute_reply": "2024-02-11T08:29:28.738682Z"
    },
    "papermill": {
     "duration": 0.030582,
     "end_time": "2024-02-11T08:29:28.742329",
     "exception": false,
     "start_time": "2024-02-11T08:29:28.711747",
     "status": "completed"
    },
    "tags": []
   },
   "outputs": [
    {
     "name": "stdout",
     "output_type": "stream",
     "text": [
      "(50000,)\n",
      "(10000,)\n"
     ]
    }
   ],
   "source": [
    "# labels 데이터가 2차원임. 이를 keras 모델에 입력해도 문제없이 작동한다.\n",
    "# 그치만 one hot encoding의 적용 여부를 명확하게 알 수 있게 1차원으로 만들어주자\n",
    "\n",
    "train_labels = train_labels.squeeze()\n",
    "test_labels = test_labels.squeeze()\n",
    "\n",
    "print(train_labels.shape)\n",
    "print(test_labels.shape)"
   ]
  },
  {
   "cell_type": "markdown",
   "id": "8ef21d69",
   "metadata": {
    "papermill": {
     "duration": 0.019575,
     "end_time": "2024-02-11T08:29:28.781598",
     "exception": false,
     "start_time": "2024-02-11T08:29:28.762023",
     "status": "completed"
    },
    "tags": []
   },
   "source": [
    "### Model 생성\n",
    "* CNN Model의 첫 layer에는 input_layer을 넣고 shape는 이미지 사이즈에 맞게 설정\n",
    "* conv 연산을 적용하고 maxpooling을 적용. maxpooling 적용 후에는 필터 개수를 증가시킴\n",
    "* maxpooling 이후 feature map 사이즈는 작아지지만 채널(깊이)은 늘어나는 형태.\n",
    "* CIFAR10의 Label수가 10개이므로 Classification을 위한 맨 마지막 Dense layer의 units 갯수는 10개임\n",
    "* label값이 원-핫 인코딩 되지 않았기 때문에 model.compile()에서 loss는 반드시 sparse_categorical_crossentropy여야함."
   ]
  },
  {
   "cell_type": "code",
   "execution_count": 11,
   "id": "7443f6c2",
   "metadata": {
    "execution": {
     "iopub.execute_input": "2024-02-11T08:29:28.823562Z",
     "iopub.status.busy": "2024-02-11T08:29:28.823146Z",
     "iopub.status.idle": "2024-02-11T08:29:28.827483Z",
     "shell.execute_reply": "2024-02-11T08:29:28.826541Z"
    },
    "papermill": {
     "duration": 0.027791,
     "end_time": "2024-02-11T08:29:28.829630",
     "exception": false,
     "start_time": "2024-02-11T08:29:28.801839",
     "status": "completed"
    },
    "tags": []
   },
   "outputs": [],
   "source": [
    "IMAGE_SIZE = 32"
   ]
  },
  {
   "cell_type": "code",
   "execution_count": 12,
   "id": "4bcd5f92",
   "metadata": {
    "execution": {
     "iopub.execute_input": "2024-02-11T08:29:28.871112Z",
     "iopub.status.busy": "2024-02-11T08:29:28.870825Z",
     "iopub.status.idle": "2024-02-11T08:29:29.988526Z",
     "shell.execute_reply": "2024-02-11T08:29:29.987446Z"
    },
    "papermill": {
     "duration": 1.152601,
     "end_time": "2024-02-11T08:29:30.002393",
     "exception": false,
     "start_time": "2024-02-11T08:29:28.849792",
     "status": "completed"
    },
    "tags": []
   },
   "outputs": [
    {
     "name": "stdout",
     "output_type": "stream",
     "text": [
      "Model: \"model\"\n",
      "_________________________________________________________________\n",
      " Layer (type)                Output Shape              Param #   \n",
      "=================================================================\n",
      " input_1 (InputLayer)        [(None, 32, 32, 3)]       0         \n",
      "                                                                 \n",
      " conv2d (Conv2D)             (None, 32, 32, 32)        896       \n",
      "                                                                 \n",
      " conv2d_1 (Conv2D)           (None, 32, 32, 32)        9248      \n",
      "                                                                 \n",
      " max_pooling2d (MaxPooling2  (None, 16, 16, 32)        0         \n",
      " D)                                                              \n",
      "                                                                 \n",
      " conv2d_2 (Conv2D)           (None, 16, 16, 64)        18496     \n",
      "                                                                 \n",
      " conv2d_3 (Conv2D)           (None, 16, 16, 64)        36928     \n",
      "                                                                 \n",
      " activation (Activation)     (None, 16, 16, 64)        0         \n",
      "                                                                 \n",
      " max_pooling2d_1 (MaxPoolin  (None, 8, 8, 64)          0         \n",
      " g2D)                                                            \n",
      "                                                                 \n",
      " conv2d_4 (Conv2D)           (None, 8, 8, 128)         73856     \n",
      "                                                                 \n",
      " conv2d_5 (Conv2D)           (None, 8, 8, 128)         147584    \n",
      "                                                                 \n",
      " max_pooling2d_2 (MaxPoolin  (None, 4, 4, 128)         0         \n",
      " g2D)                                                            \n",
      "                                                                 \n",
      " flatten (Flatten)           (None, 2048)              0         \n",
      "                                                                 \n",
      " dropout (Dropout)           (None, 2048)              0         \n",
      "                                                                 \n",
      " dense (Dense)               (None, 300)               614700    \n",
      "                                                                 \n",
      " dropout_1 (Dropout)         (None, 300)               0         \n",
      "                                                                 \n",
      " dense_1 (Dense)             (None, 10)                3010      \n",
      "                                                                 \n",
      "=================================================================\n",
      "Total params: 904718 (3.45 MB)\n",
      "Trainable params: 904718 (3.45 MB)\n",
      "Non-trainable params: 0 (0.00 Byte)\n",
      "_________________________________________________________________\n"
     ]
    }
   ],
   "source": [
    "# 이미지 자체 사이즈가 3*3으로 크지 않아서 kernel_size를 지나치게 크게 잡을 필요가 없다.\n",
    "# 초기 receptive_field 크기 설정에 대해서 정해진 법칙은 없고 돌려보면서 확인해야 한다.\n",
    "\n",
    "from tensorflow.keras.layers import Input, Dense, Conv2D, Flatten, Activation, MaxPooling2D, Dropout\n",
    "from tensorflow.keras.models import Model\n",
    "from tensorflow.keras.optimizers import Adam\n",
    "\n",
    "input_tensor = Input(shape=(IMAGE_SIZE, IMAGE_SIZE, 3))\n",
    "\n",
    "x = Conv2D(filters=32, kernel_size=3, padding='same', activation='relu')(input_tensor)\n",
    "x = Conv2D(filters=32, kernel_size=3, padding='same', activation='relu')(x)\n",
    "x = MaxPooling2D(2)(x)\n",
    "\n",
    "x = Conv2D(filters=64, kernel_size=3, padding='same', activation='relu')(x)\n",
    "x = Conv2D(filters=64, kernel_size=3, padding='same')(x)\n",
    "x = Activation('relu')(x)  # 이런식으로 conv2d와 activation을 별개로 적용할 수 있다.\n",
    "x = MaxPooling2D(2)(x)\n",
    "\n",
    "x = Conv2D(filters=128, kernel_size=3, padding='same', activation='relu')(x)\n",
    "x = Conv2D(filters=128, kernel_size=3, padding='same', activation='relu')(x)\n",
    "x = MaxPooling2D(2)(x)\n",
    "\n",
    "# cifar의 클라스가 10개니까 마지막 layer의 unit 개수는 10개\n",
    "x = Flatten()(x)\n",
    "x = Dropout(rate=0.5)(x)\n",
    "x = Dense(300, activation='relu')(x)\n",
    "x = Dropout(rate=0.3)(x)\n",
    "output = Dense(10, activation='softmax')(x)\n",
    "\n",
    "model = Model(inputs=input_tensor, outputs=output)\n",
    "\n",
    "model.summary()\n",
    "\n"
   ]
  },
  {
   "cell_type": "code",
   "execution_count": 13,
   "id": "2135e0ec",
   "metadata": {
    "execution": {
     "iopub.execute_input": "2024-02-11T08:29:30.047614Z",
     "iopub.status.busy": "2024-02-11T08:29:30.047284Z",
     "iopub.status.idle": "2024-02-11T08:29:30.065013Z",
     "shell.execute_reply": "2024-02-11T08:29:30.064229Z"
    },
    "papermill": {
     "duration": 0.041966,
     "end_time": "2024-02-11T08:29:30.066841",
     "exception": false,
     "start_time": "2024-02-11T08:29:30.024875",
     "status": "completed"
    },
    "tags": []
   },
   "outputs": [],
   "source": [
    "# optimizer는 Adam으로 설정하고 label 값이 one hot encoding이 아니니까 loss는 sparse cateorical crossentropy\n",
    "model.compile(optimizer=Adam(), loss='sparse_categorical_crossentropy', metrics=['accuracy'])"
   ]
  },
  {
   "cell_type": "markdown",
   "id": "bc0c8ce4",
   "metadata": {
    "papermill": {
     "duration": 0.021368,
     "end_time": "2024-02-11T08:29:30.109528",
     "exception": false,
     "start_time": "2024-02-11T08:29:30.088160",
     "status": "completed"
    },
    "tags": []
   },
   "source": [
    "## Model 학습 수행 및 테스트 데이터로 평가\n",
    "* Model의 fit 메소드를 호출해 학습\n",
    "* fit은 학습 데이터가 np array 형태로 들어올 때랑 Generator 형태로 들어올 때 약간의 차이가 있음\n",
    "* batch_size는 한번에 가져올 image label array 개수. 수가 너무 작으면 시간이 오래 걸리고 너무 크면 gpu memory 부족이 발생할 수 있어 적절한 batch size 설정이 필요. 단, 학습 데이터가 generator인 경우 "
   ]
  },
  {
   "cell_type": "code",
   "execution_count": 14,
   "id": "f10dc69c",
   "metadata": {
    "execution": {
     "iopub.execute_input": "2024-02-11T08:29:30.152407Z",
     "iopub.status.busy": "2024-02-11T08:29:30.151879Z",
     "iopub.status.idle": "2024-02-11T08:32:05.156477Z",
     "shell.execute_reply": "2024-02-11T08:32:05.155298Z"
    },
    "papermill": {
     "duration": 155.028682,
     "end_time": "2024-02-11T08:32:05.158743",
     "exception": false,
     "start_time": "2024-02-11T08:29:30.130061",
     "status": "completed"
    },
    "tags": []
   },
   "outputs": [
    {
     "name": "stdout",
     "output_type": "stream",
     "text": [
      "Epoch 1/30\n"
     ]
    },
    {
     "name": "stderr",
     "output_type": "stream",
     "text": [
      "WARNING: All log messages before absl::InitializeLog() is called are written to STDERR\n",
      "I0000 00:00:1707640176.240994      76 device_compiler.h:186] Compiled cluster using XLA!  This line is logged at most once for the lifetime of the process.\n"
     ]
    },
    {
     "name": "stdout",
     "output_type": "stream",
     "text": [
      "665/665 [==============================] - 14s 9ms/step - loss: 1.6845 - accuracy: 0.3768 - val_loss: 1.3594 - val_accuracy: 0.5071\n",
      "Epoch 2/30\n",
      "665/665 [==============================] - 5s 7ms/step - loss: 1.2397 - accuracy: 0.5537 - val_loss: 1.0936 - val_accuracy: 0.6073\n",
      "Epoch 3/30\n",
      "665/665 [==============================] - 5s 7ms/step - loss: 1.0231 - accuracy: 0.6383 - val_loss: 0.9674 - val_accuracy: 0.6619\n",
      "Epoch 4/30\n",
      "665/665 [==============================] - 5s 7ms/step - loss: 0.8885 - accuracy: 0.6857 - val_loss: 0.8020 - val_accuracy: 0.7197\n",
      "Epoch 5/30\n",
      "665/665 [==============================] - 5s 7ms/step - loss: 0.7894 - accuracy: 0.7235 - val_loss: 0.7790 - val_accuracy: 0.7285\n",
      "Epoch 6/30\n",
      "665/665 [==============================] - 5s 7ms/step - loss: 0.7203 - accuracy: 0.7510 - val_loss: 0.7267 - val_accuracy: 0.7459\n",
      "Epoch 7/30\n",
      "665/665 [==============================] - 5s 7ms/step - loss: 0.6538 - accuracy: 0.7717 - val_loss: 0.7085 - val_accuracy: 0.7517\n",
      "Epoch 8/30\n",
      "665/665 [==============================] - 5s 7ms/step - loss: 0.6123 - accuracy: 0.7852 - val_loss: 0.6908 - val_accuracy: 0.7620\n",
      "Epoch 9/30\n",
      "665/665 [==============================] - 5s 7ms/step - loss: 0.5649 - accuracy: 0.8012 - val_loss: 0.6628 - val_accuracy: 0.7641\n",
      "Epoch 10/30\n",
      "665/665 [==============================] - 5s 7ms/step - loss: 0.5392 - accuracy: 0.8113 - val_loss: 0.6599 - val_accuracy: 0.7727\n",
      "Epoch 11/30\n",
      "665/665 [==============================] - 5s 7ms/step - loss: 0.5022 - accuracy: 0.8226 - val_loss: 0.6399 - val_accuracy: 0.7855\n",
      "Epoch 12/30\n",
      "665/665 [==============================] - 5s 7ms/step - loss: 0.4656 - accuracy: 0.8349 - val_loss: 0.6871 - val_accuracy: 0.7775\n",
      "Epoch 13/30\n",
      "665/665 [==============================] - 5s 7ms/step - loss: 0.4417 - accuracy: 0.8446 - val_loss: 0.6851 - val_accuracy: 0.7803\n",
      "Epoch 14/30\n",
      "665/665 [==============================] - 5s 7ms/step - loss: 0.4317 - accuracy: 0.8472 - val_loss: 0.6152 - val_accuracy: 0.8007\n",
      "Epoch 15/30\n",
      "665/665 [==============================] - 5s 7ms/step - loss: 0.4063 - accuracy: 0.8565 - val_loss: 0.6228 - val_accuracy: 0.7972\n",
      "Epoch 16/30\n",
      "665/665 [==============================] - 5s 7ms/step - loss: 0.3810 - accuracy: 0.8645 - val_loss: 0.6446 - val_accuracy: 0.7932\n",
      "Epoch 17/30\n",
      "665/665 [==============================] - 5s 7ms/step - loss: 0.3795 - accuracy: 0.8666 - val_loss: 0.6437 - val_accuracy: 0.7869\n",
      "Epoch 18/30\n",
      "665/665 [==============================] - 5s 7ms/step - loss: 0.3598 - accuracy: 0.8710 - val_loss: 0.6389 - val_accuracy: 0.7983\n",
      "Epoch 19/30\n",
      "665/665 [==============================] - 5s 7ms/step - loss: 0.3454 - accuracy: 0.8785 - val_loss: 0.6273 - val_accuracy: 0.7924\n",
      "Epoch 20/30\n",
      "665/665 [==============================] - 5s 7ms/step - loss: 0.3345 - accuracy: 0.8807 - val_loss: 0.6839 - val_accuracy: 0.7821\n",
      "Epoch 21/30\n",
      "665/665 [==============================] - 5s 7ms/step - loss: 0.3174 - accuracy: 0.8877 - val_loss: 0.7392 - val_accuracy: 0.7772\n",
      "Epoch 22/30\n",
      "665/665 [==============================] - 5s 7ms/step - loss: 0.3274 - accuracy: 0.8849 - val_loss: 0.6567 - val_accuracy: 0.7913\n",
      "Epoch 23/30\n",
      "665/665 [==============================] - 5s 7ms/step - loss: 0.3137 - accuracy: 0.8890 - val_loss: 0.6378 - val_accuracy: 0.7972\n",
      "Epoch 24/30\n",
      "665/665 [==============================] - 5s 7ms/step - loss: 0.3046 - accuracy: 0.8921 - val_loss: 0.6664 - val_accuracy: 0.7920\n",
      "Epoch 25/30\n",
      "665/665 [==============================] - 5s 7ms/step - loss: 0.2911 - accuracy: 0.8974 - val_loss: 0.6724 - val_accuracy: 0.7957\n",
      "Epoch 26/30\n",
      "665/665 [==============================] - 5s 7ms/step - loss: 0.2883 - accuracy: 0.8996 - val_loss: 0.6812 - val_accuracy: 0.7951\n",
      "Epoch 27/30\n",
      "665/665 [==============================] - 5s 7ms/step - loss: 0.2825 - accuracy: 0.9019 - val_loss: 0.6698 - val_accuracy: 0.7967\n",
      "Epoch 28/30\n",
      "665/665 [==============================] - 5s 7ms/step - loss: 0.2712 - accuracy: 0.9058 - val_loss: 0.6977 - val_accuracy: 0.7920\n",
      "Epoch 29/30\n",
      "665/665 [==============================] - 5s 7ms/step - loss: 0.2674 - accuracy: 0.9057 - val_loss: 0.6905 - val_accuracy: 0.7895\n",
      "Epoch 30/30\n",
      "665/665 [==============================] - 5s 7ms/step - loss: 0.2719 - accuracy: 0.9056 - val_loss: 0.7101 - val_accuracy: 0.7919\n"
     ]
    }
   ],
   "source": [
    "model_fit = model.fit(x=train_images, y = train_labels, batch_size=64, epochs=30, validation_split=0.15)"
   ]
  },
  {
   "cell_type": "code",
   "execution_count": 15,
   "id": "9986a167",
   "metadata": {
    "execution": {
     "iopub.execute_input": "2024-02-11T08:32:05.619114Z",
     "iopub.status.busy": "2024-02-11T08:32:05.618358Z",
     "iopub.status.idle": "2024-02-11T08:32:05.625862Z",
     "shell.execute_reply": "2024-02-11T08:32:05.625006Z"
    },
    "papermill": {
     "duration": 0.239294,
     "end_time": "2024-02-11T08:32:05.627929",
     "exception": false,
     "start_time": "2024-02-11T08:32:05.388635",
     "status": "completed"
    },
    "tags": []
   },
   "outputs": [
    {
     "data": {
      "text/plain": [
       "{'loss': [1.6845253705978394,\n",
       "  1.2397496700286865,\n",
       "  1.0230947732925415,\n",
       "  0.888517439365387,\n",
       "  0.7894165515899658,\n",
       "  0.7203286290168762,\n",
       "  0.6538283228874207,\n",
       "  0.61232990026474,\n",
       "  0.5649312734603882,\n",
       "  0.5392241477966309,\n",
       "  0.5022038221359253,\n",
       "  0.46559277176856995,\n",
       "  0.4417042136192322,\n",
       "  0.4317321181297302,\n",
       "  0.4062567949295044,\n",
       "  0.3810180425643921,\n",
       "  0.3795347511768341,\n",
       "  0.3598368465900421,\n",
       "  0.34536048769950867,\n",
       "  0.33451396226882935,\n",
       "  0.31741005182266235,\n",
       "  0.32737043499946594,\n",
       "  0.3137240707874298,\n",
       "  0.3045835793018341,\n",
       "  0.291077584028244,\n",
       "  0.2883148491382599,\n",
       "  0.2824992537498474,\n",
       "  0.2711576223373413,\n",
       "  0.26744240522384644,\n",
       "  0.2718605101108551],\n",
       " 'accuracy': [0.376800000667572,\n",
       "  0.5537176728248596,\n",
       "  0.6382588148117065,\n",
       "  0.6857176423072815,\n",
       "  0.7234588265419006,\n",
       "  0.7510117888450623,\n",
       "  0.7716705799102783,\n",
       "  0.7852235436439514,\n",
       "  0.8011764883995056,\n",
       "  0.8112941384315491,\n",
       "  0.8225882649421692,\n",
       "  0.8348705768585205,\n",
       "  0.8446117639541626,\n",
       "  0.8472470641136169,\n",
       "  0.856494128704071,\n",
       "  0.8645411729812622,\n",
       "  0.8666117787361145,\n",
       "  0.8710352778434753,\n",
       "  0.878494143486023,\n",
       "  0.8807294368743896,\n",
       "  0.8876705765724182,\n",
       "  0.8848941326141357,\n",
       "  0.8889647126197815,\n",
       "  0.8920705914497375,\n",
       "  0.8974117636680603,\n",
       "  0.8995764851570129,\n",
       "  0.9019294381141663,\n",
       "  0.9058352708816528,\n",
       "  0.9056941270828247,\n",
       "  0.9055764675140381],\n",
       " 'val_loss': [1.3593997955322266,\n",
       "  1.093555212020874,\n",
       "  0.9673678278923035,\n",
       "  0.8019837737083435,\n",
       "  0.7789670825004578,\n",
       "  0.726740300655365,\n",
       "  0.7084852457046509,\n",
       "  0.6908251047134399,\n",
       "  0.6627821326255798,\n",
       "  0.6599431037902832,\n",
       "  0.6399476528167725,\n",
       "  0.6871050596237183,\n",
       "  0.6851493120193481,\n",
       "  0.6151840090751648,\n",
       "  0.6228060722351074,\n",
       "  0.6445590257644653,\n",
       "  0.6437245011329651,\n",
       "  0.6389201283454895,\n",
       "  0.6273109912872314,\n",
       "  0.6839426159858704,\n",
       "  0.739173948764801,\n",
       "  0.6567021608352661,\n",
       "  0.6377906799316406,\n",
       "  0.6664437651634216,\n",
       "  0.6723752617835999,\n",
       "  0.6812017560005188,\n",
       "  0.6697679758071899,\n",
       "  0.6977471113204956,\n",
       "  0.6905379295349121,\n",
       "  0.710069477558136],\n",
       " 'val_accuracy': [0.5070666670799255,\n",
       "  0.6073333621025085,\n",
       "  0.6618666648864746,\n",
       "  0.7197333574295044,\n",
       "  0.7285333275794983,\n",
       "  0.7458666563034058,\n",
       "  0.7517333626747131,\n",
       "  0.7620000243186951,\n",
       "  0.7641333341598511,\n",
       "  0.7726666927337646,\n",
       "  0.7854666709899902,\n",
       "  0.7774666547775269,\n",
       "  0.7802666425704956,\n",
       "  0.8006666898727417,\n",
       "  0.7972000241279602,\n",
       "  0.7932000160217285,\n",
       "  0.7869333624839783,\n",
       "  0.7982666492462158,\n",
       "  0.7924000024795532,\n",
       "  0.7821333408355713,\n",
       "  0.7771999835968018,\n",
       "  0.7913333177566528,\n",
       "  0.7972000241279602,\n",
       "  0.7919999957084656,\n",
       "  0.7957333326339722,\n",
       "  0.7950666546821594,\n",
       "  0.79666668176651,\n",
       "  0.7919999957084656,\n",
       "  0.7894666790962219,\n",
       "  0.791866660118103]}"
      ]
     },
     "execution_count": 15,
     "metadata": {},
     "output_type": "execute_result"
    }
   ],
   "source": [
    "model_fit.history"
   ]
  },
  {
   "cell_type": "code",
   "execution_count": 16,
   "id": "9b5bb2aa",
   "metadata": {
    "execution": {
     "iopub.execute_input": "2024-02-11T08:32:06.094504Z",
     "iopub.status.busy": "2024-02-11T08:32:06.094140Z",
     "iopub.status.idle": "2024-02-11T08:32:08.223184Z",
     "shell.execute_reply": "2024-02-11T08:32:08.222184Z"
    },
    "papermill": {
     "duration": 2.363454,
     "end_time": "2024-02-11T08:32:08.225864",
     "exception": false,
     "start_time": "2024-02-11T08:32:05.862410",
     "status": "completed"
    },
    "tags": []
   },
   "outputs": [
    {
     "name": "stdout",
     "output_type": "stream",
     "text": [
      "313/313 [==============================] - 1s 3ms/step - loss: 0.7230 - accuracy: 0.7957\n"
     ]
    },
    {
     "data": {
      "text/plain": [
       "[0.72300124168396, 0.7957000136375427]"
      ]
     },
     "execution_count": 16,
     "metadata": {},
     "output_type": "execute_result"
    },
    {
     "data": {
      "image/png": "[encoded data removed]",
      "text/plain": [
       "<Figure size 600x600 with 1 Axes>"
      ]
     },
     "metadata": {},
     "output_type": "display_data"
    }
   ],
   "source": [
    "# 결과를 보면 알겠지만 오버피팅의 경향을 보이고 있음\n",
    "\n",
    "import matplotlib.pyplot as plt\n",
    "%matplotlib inline\n",
    "\n",
    "def show_history(history):\n",
    "    plt.figure(figsize=(6,6))\n",
    "    plt.yticks(np.arange(0,1, 0.05))\n",
    "    plt.plot(model_fit.history['accuracy'], label='train')\n",
    "    plt.plot(model_fit.history['val_accuracy'], label='valid')\n",
    "    plt.legend()\n",
    "    \n",
    "show_history(model_fit)\n",
    "\n",
    "model.evaluate(test_images, test_labels)"
   ]
  },
  {
   "cell_type": "markdown",
   "id": "ce077f63",
   "metadata": {
    "papermill": {
     "duration": 0.230423,
     "end_time": "2024-02-11T08:32:08.695639",
     "exception": false,
     "start_time": "2024-02-11T08:32:08.465216",
     "status": "completed"
    },
    "tags": []
   },
   "source": [
    "### model.predict()를 통해 이미지 분류 예측\n",
    "* 4차원 이미지 배열을 입력해서 모델학습을 하는 경우, predict시에도 4차원 이미지 배열을 입력해야 한다.\n",
    "* 학습 데이터의 원-핫 인코딩 적용 여부와 관계없이 softmax 적용 결과는 무조건 2차원이 나오므로 이에 유의하자."
   ]
  },
  {
   "cell_type": "code",
   "execution_count": 17,
   "id": "7cbc1f88",
   "metadata": {
    "execution": {
     "iopub.execute_input": "2024-02-11T08:32:09.162970Z",
     "iopub.status.busy": "2024-02-11T08:32:09.162594Z",
     "iopub.status.idle": "2024-02-11T08:32:09.168937Z",
     "shell.execute_reply": "2024-02-11T08:32:09.167989Z"
    },
    "papermill": {
     "duration": 0.239543,
     "end_time": "2024-02-11T08:32:09.171259",
     "exception": false,
     "start_time": "2024-02-11T08:32:08.931716",
     "status": "completed"
    },
    "tags": []
   },
   "outputs": [
    {
     "data": {
      "text/plain": [
       "(32, 32, 3)"
      ]
     },
     "execution_count": 17,
     "metadata": {},
     "output_type": "execute_result"
    }
   ],
   "source": [
    "# 아래 코드는 Conv2D를 사용한 모델에 4차원 이미지 배열을 입력해야 하는데 3차원 이미지 배열을 넣어서 오류 발생\n",
    "# 개별 이미지를 사용하는 경우 3차원 데이터가 model에 입력되므로 오류 발생\n",
    "\n",
    "test_images[0].shape  # 3차원 배열\n",
    "\n",
    "# preds = model.predict(test_images[0])"
   ]
  },
  {
   "cell_type": "code",
   "execution_count": 18,
   "id": "6f953ce5",
   "metadata": {
    "execution": {
     "iopub.execute_input": "2024-02-11T08:32:09.696372Z",
     "iopub.status.busy": "2024-02-11T08:32:09.695963Z",
     "iopub.status.idle": "2024-02-11T08:32:10.298147Z",
     "shell.execute_reply": "2024-02-11T08:32:10.297173Z"
    },
    "papermill": {
     "duration": 0.897556,
     "end_time": "2024-02-11T08:32:10.300420",
     "exception": false,
     "start_time": "2024-02-11T08:32:09.402864",
     "status": "completed"
    },
    "tags": []
   },
   "outputs": [
    {
     "name": "stdout",
     "output_type": "stream",
     "text": [
      "1/1 [==============================] - 1s 547ms/step\n",
      "예측 결과 shape (1, 10)\n",
      "예측 결과 [[3.9526774e-05 3.4326181e-06 2.2805789e-03 9.1233772e-01 7.3626623e-05\n",
      "  6.5876536e-02 1.8596927e-02 1.3872047e-04 6.4670522e-04 6.1428432e-06]]\n"
     ]
    }
   ],
   "source": [
    "# 테스트용 4차원 이미지 배열을 입력해서 predict 수행\n",
    "# predict의 결과는 softmax 적용 결과다 \n",
    "# 이는 학습 데이터의 원-핫 인코딩 적용 여부와 관계없이 softmax 적용 결과는 무조건 2차원이다.\n",
    "\n",
    "preds = model.predict(np.expand_dims(test_images[0], axis=0))\n",
    "print('예측 결과 shape', preds.shape)\n",
    "print('예측 결과', preds)"
   ]
  },
  {
   "cell_type": "code",
   "execution_count": 19,
   "id": "f0f56dc0",
   "metadata": {
    "execution": {
     "iopub.execute_input": "2024-02-11T08:32:10.794448Z",
     "iopub.status.busy": "2024-02-11T08:32:10.794011Z",
     "iopub.status.idle": "2024-02-11T08:32:10.866696Z",
     "shell.execute_reply": "2024-02-11T08:32:10.865092Z"
    },
    "papermill": {
     "duration": 0.310807,
     "end_time": "2024-02-11T08:32:10.868884",
     "exception": false,
     "start_time": "2024-02-11T08:32:10.558077",
     "status": "completed"
    },
    "tags": []
   },
   "outputs": [
    {
     "name": "stdout",
     "output_type": "stream",
     "text": [
      "(16, 32, 32, 3)\n",
      "1/1 [==============================] - 0s 20ms/step\n",
      "(32, 10)\n",
      "[[3.95269453e-05 3.43264264e-06 2.28060293e-03 9.12337363e-01\n",
      "  7.36278525e-05 6.58766851e-02 1.85971949e-02 1.38721211e-04\n",
      "  6.46717963e-04 6.14292867e-06]\n",
      " [1.39780553e-15 2.91083097e-07 4.65465366e-24 2.79766959e-20\n",
      "  1.98923418e-26 1.17758753e-21 1.02380630e-18 2.40268019e-26\n",
      "  9.99999762e-01 1.56123009e-12]\n",
      " [8.43516972e-08 3.46947104e-06 6.77655917e-11 3.77088014e-08\n",
      "  6.35437807e-15 6.40970003e-12 7.39312824e-08 1.04079289e-13\n",
      "  9.99996185e-01 1.75042501e-07]\n",
      " [4.81487095e-01 3.85911408e-04 8.33889062e-05 6.43834574e-05\n",
      "  5.57066983e-07 5.61370541e-08 1.14114023e-07 6.58048407e-08\n",
      "  5.13716757e-01 4.26168740e-03]\n",
      " [5.99174139e-12 1.49502025e-11 8.61377412e-05 2.82565870e-05\n",
      "  2.28657354e-05 1.64252029e-10 9.99862671e-01 1.44525152e-13\n",
      "  2.77897083e-09 1.87054794e-09]\n",
      " [1.74570028e-04 1.24281883e-04 3.20424396e-03 1.94452450e-01\n",
      "  1.46531582e-01 4.70017642e-01 9.61641744e-02 8.89314562e-02\n",
      "  1.68819577e-04 2.30752441e-04]\n",
      " [2.71557554e-10 6.52827561e-01 4.42106973e-09 2.14995893e-07\n",
      "  3.67387381e-13 9.55367341e-09 6.54093757e-09 3.27875032e-12\n",
      "  1.14599317e-07 3.47172052e-01]\n",
      " [1.51363609e-04 3.27077743e-07 2.01024786e-01 1.08859383e-01\n",
      "  5.62808216e-01 3.44530074e-03 1.22913934e-01 7.43669167e-04\n",
      "  2.89012314e-05 2.41125326e-05]\n",
      " [1.08879694e-05 8.63897327e-08 1.83053641e-03 7.56115258e-01\n",
      "  5.38459457e-02 5.76744527e-02 1.30182803e-01 3.27626505e-04\n",
      "  6.62431785e-06 5.76496450e-06]\n",
      " [5.51743906e-05 3.39186311e-01 1.36894514e-07 3.15906482e-06\n",
      "  4.59545220e-08 7.20936782e-07 5.17754197e-05 9.74150982e-09\n",
      "  1.90418482e-01 4.70284104e-01]\n",
      " [1.97958261e-01 2.22632181e-04 1.44277373e-02 3.20485942e-02\n",
      "  4.47711289e-01 4.53997627e-02 1.70405908e-03 2.26891935e-01\n",
      "  3.10941823e-02 2.54150922e-03]\n",
      " [1.45575498e-26 1.49437705e-17 0.00000000e+00 0.00000000e+00\n",
      "  0.00000000e+00 0.00000000e+00 0.00000000e+00 0.00000000e+00\n",
      "  2.04171389e-25 1.00000000e+00]\n",
      " [8.30112867e-09 2.66290510e-08 6.27712216e-05 5.50131500e-02\n",
      "  3.68601680e-02 9.05904412e-01 3.29949980e-05 2.12644739e-03\n",
      "  9.76689662e-09 5.50954411e-08]\n",
      " [1.39139089e-18 1.20547844e-15 5.86443463e-11 7.14613924e-11\n",
      "  2.48747717e-10 5.51167650e-05 8.37761155e-15 9.99944925e-01\n",
      "  1.68316647e-17 1.87354561e-15]\n",
      " [3.53287405e-15 2.27850651e-05 2.22537832e-15 1.50321232e-15\n",
      "  1.08379782e-22 6.23707042e-20 8.84332279e-19 1.88572623e-20\n",
      "  9.76067582e-09 9.99977231e-01]\n",
      " [7.56605289e-07 1.71489762e-06 4.05763728e-07 6.15688522e-09\n",
      "  1.01657713e-08 1.75551884e-09 6.36167169e-06 2.55605103e-11\n",
      "  9.99990582e-01 1.64191363e-07]\n",
      " [3.63272865e-15 3.11465450e-15 2.39309059e-11 2.83739500e-05\n",
      "  2.27469383e-13 9.99971628e-01 5.41025720e-13 7.66442909e-09\n",
      "  3.29034413e-12 1.98244944e-13]\n",
      " [2.09543723e-04 1.16948349e-05 7.26379076e-05 4.13678121e-03\n",
      "  3.00423126e-05 9.92001733e-04 6.88598739e-05 9.78186786e-01\n",
      "  1.86459388e-07 1.62913166e-02]\n",
      " [9.28584949e-17 2.71855800e-14 6.19001709e-21 9.95035431e-21\n",
      "  3.51800533e-27 1.37753825e-21 8.98734837e-19 7.93178503e-28\n",
      "  1.00000000e+00 8.42174790e-15]\n",
      " [1.15487758e-11 3.60532524e-12 4.81683219e-06 2.69002287e-09\n",
      "  1.03285508e-07 1.70468617e-08 9.99995112e-01 3.17730952e-16\n",
      "  2.53279689e-11 2.74395145e-10]\n",
      " [3.04511160e-01 2.78695732e-01 1.33096275e-03 4.07625735e-02\n",
      "  8.51830817e-04 3.66769396e-02 2.72368197e-04 2.93173701e-01\n",
      "  3.88987525e-03 3.98348495e-02]\n",
      " [9.96475518e-01 7.00230499e-11 3.52417934e-03 2.53638515e-08\n",
      "  6.27164169e-08 1.79738141e-10 1.55759054e-07 4.65944575e-11\n",
      "  8.01732547e-09 5.14779677e-11]\n",
      " [2.45338622e-02 2.29399966e-08 4.34819609e-01 5.32297278e-03\n",
      "  5.25324047e-01 3.17039987e-04 3.81453283e-04 3.10002360e-05\n",
      "  9.26833786e-03 1.66238704e-06]\n",
      " [3.45997906e-26 1.76516059e-14 1.46044095e-30 4.98806489e-30\n",
      "  0.00000000e+00 9.31510511e-35 1.58028465e-27 4.48276966e-36\n",
      "  2.90062262e-24 1.00000000e+00]\n",
      " [1.25458519e-06 4.30830753e-11 2.00277995e-02 1.78505387e-02\n",
      "  7.76311100e-01 1.80876911e-01 4.26115381e-04 4.50624619e-03\n",
      "  3.70043551e-09 9.06637343e-09]\n",
      " [4.28630225e-02 5.68451360e-03 2.37583891e-01 2.16264755e-01\n",
      "  1.51987746e-01 2.11545333e-01 3.87682095e-02 4.88709770e-02\n",
      "  6.19135099e-03 4.02401462e-02]\n",
      " [5.05605897e-07 2.98031322e-11 6.50258362e-02 3.50709893e-02\n",
      "  8.93089056e-01 2.30628974e-03 2.42933049e-04 4.26411442e-03\n",
      "  1.39961841e-07 3.25627028e-08]\n",
      " [8.62392306e-01 9.71990175e-07 1.63787871e-03 4.12653244e-05\n",
      "  1.35056570e-01 1.85792538e-04 9.28403460e-05 4.53295652e-04\n",
      "  5.18716661e-05 8.72936507e-05]\n",
      " [4.10248016e-11 2.84940825e-06 2.58102220e-12 2.37719344e-10\n",
      "  1.49715890e-15 7.64554056e-13 4.50566234e-13 1.85377457e-13\n",
      "  1.52402091e-10 9.99997139e-01]\n",
      " [1.12802930e-07 1.49620838e-09 9.01075873e-06 1.27271434e-07\n",
      "  3.03370998e-05 5.67030554e-07 9.99959826e-01 7.24628734e-12\n",
      "  4.08005824e-10 2.09765805e-08]\n",
      " [2.83658608e-07 1.10670180e-06 3.54601332e-04 7.84291129e-04\n",
      "  1.24555938e-02 1.50957878e-03 9.84889269e-01 5.21087804e-06\n",
      "  1.00471267e-08 1.05898877e-07]\n",
      " [8.32064626e-11 5.02047067e-14 3.26695990e-05 1.19470237e-02\n",
      "  1.08246957e-06 9.88013864e-01 4.98501413e-06 4.51146207e-07\n",
      "  1.75526003e-13 7.79542229e-12]]\n"
     ]
    }
   ],
   "source": [
    "print(test_images[:16].shape) # (16, 32, 32, 3)\n",
    "\n",
    "preds = model.predict(test_images[:32], batch_size=32)\n",
    "print(preds.shape)\n",
    "print(preds)"
   ]
  },
  {
   "cell_type": "code",
   "execution_count": 20,
   "id": "9666610d",
   "metadata": {
    "execution": {
     "iopub.execute_input": "2024-02-11T08:32:11.340134Z",
     "iopub.status.busy": "2024-02-11T08:32:11.339758Z",
     "iopub.status.idle": "2024-02-11T08:32:11.346419Z",
     "shell.execute_reply": "2024-02-11T08:32:11.345465Z"
    },
    "papermill": {
     "duration": 0.245359,
     "end_time": "2024-02-11T08:32:11.348554",
     "exception": false,
     "start_time": "2024-02-11T08:32:11.103195",
     "status": "completed"
    },
    "tags": []
   },
   "outputs": [
    {
     "name": "stdout",
     "output_type": "stream",
     "text": [
      "예측 클래스 값 [3 8 8 8 6 5 1 4 3 9 4 9 5 7 9 8 5 7 8 6 0 0 4 9 4 2 4 0 9 6 6 5]\n"
     ]
    }
   ],
   "source": [
    "predicted_class = np.argmax(preds, axis=1)\n",
    "print('예측 클래스 값',predicted_class)"
   ]
  },
  {
   "cell_type": "code",
   "execution_count": 21,
   "id": "2fd73fb5",
   "metadata": {
    "execution": {
     "iopub.execute_input": "2024-02-11T08:32:11.838235Z",
     "iopub.status.busy": "2024-02-11T08:32:11.837862Z",
     "iopub.status.idle": "2024-02-11T08:32:14.432810Z",
     "shell.execute_reply": "2024-02-11T08:32:14.431904Z"
    },
    "papermill": {
     "duration": 2.84032,
     "end_time": "2024-02-11T08:32:14.435172",
     "exception": false,
     "start_time": "2024-02-11T08:32:11.594852",
     "status": "completed"
    },
    "tags": []
   },
   "outputs": [
    {
     "data": {
      "image/png": "[encoded data removed]",
      "text/plain": [
       "<Figure size 2200x600 with 8 Axes>"
      ]
     },
     "metadata": {},
     "output_type": "display_data"
    },
    {
     "data": {
      "image/png": "[encoded data removed]",
      "text/plain": [
       "<Figure size 2200x600 with 8 Axes>"
      ]
     },
     "metadata": {},
     "output_type": "display_data"
    }
   ],
   "source": [
    "show_images(test_images[:8], predicted_class[:8], ncols=8)\n",
    "show_images(test_images[:8], test_labels[:8], ncols=8)"
   ]
  },
  {
   "cell_type": "markdown",
   "id": "9a9af277",
   "metadata": {
    "papermill": {
     "duration": 0.257015,
     "end_time": "2024-02-11T08:32:14.930510",
     "exception": false,
     "start_time": "2024-02-11T08:32:14.673495",
     "status": "completed"
    },
    "tags": []
   },
   "source": [
    "## weight 초기화\n",
    "* 좋은 weight 초기화 조건은 아래와 같다.\n",
    "    1. 값이 동일하지 않다.\n",
    "    2. 충분히 작아야 한다. / 안 그러면 x1w11 + x2w12..의 연산 과정에서 값이 지나치게 커진다\n",
    "    3. 적당한 분산(혹은 표준편차)를 가져야 한다.\n",
    "* 이를 위해 시용되는 초기화 식으론 Xavier Initialization, He Initialization 등이 있다."
   ]
  },
  {
   "cell_type": "markdown",
   "id": "e5e4d6cd",
   "metadata": {
    "papermill": {
     "duration": 0.274192,
     "end_time": "2024-02-11T08:32:15.446752",
     "exception": false,
     "start_time": "2024-02-11T08:32:15.172560",
     "status": "completed"
    },
    "tags": []
   },
   "source": [
    "### Xavier initialization / 정규분포(glorot_normal), 균일분포(glorot_uniform)\n",
    "* Xavier initialization은 주로 비선형함수(sigmoid, tanh 등)에서 효과적이다.\n",
    "* 하지만 ReLU함수에 있어선 사용 시 출력 값이 0으로 수렴하는 현상이 있어 다른 방법이 필요하다."
   ]
  },
  {
   "cell_type": "code",
   "execution_count": 22,
   "id": "217510ab",
   "metadata": {
    "execution": {
     "iopub.execute_input": "2024-02-11T08:32:15.928181Z",
     "iopub.status.busy": "2024-02-11T08:32:15.927807Z",
     "iopub.status.idle": "2024-02-11T08:32:15.936128Z",
     "shell.execute_reply": "2024-02-11T08:32:15.935051Z"
    },
    "papermill": {
     "duration": 0.254958,
     "end_time": "2024-02-11T08:32:15.938103",
     "exception": false,
     "start_time": "2024-02-11T08:32:15.683145",
     "status": "completed"
    },
    "tags": []
   },
   "outputs": [
    {
     "name": "stdout",
     "output_type": "stream",
     "text": [
      "scale: 0.23904572186687872\n",
      "[[-0.04016938  0.14609739  0.05099029 ...  0.02927149 -0.04934083\n",
      "  -0.37571487]\n",
      " [-0.16810952 -0.01805347  0.00381319 ...  0.25981582  0.16518415\n",
      "  -0.12130743]\n",
      " [ 0.41766046  0.44797636 -0.24376083 ... -0.04133887  0.00378638\n",
      "   0.01702778]\n",
      " ...\n",
      " [ 0.20743008  0.28746855  0.34805956 ...  0.36690961  0.05697188\n",
      "  -0.02855581]\n",
      " [-0.42297698  0.16344385  0.1138203  ... -0.23276588 -0.29494015\n",
      "   0.04331166]\n",
      " [-0.19143017 -0.0142426  -0.1314629  ... -0.42961535  0.11461675\n",
      "   0.1811814 ]]\n",
      "weights mean: -0.0028195466937144236 std: 0.23639084669201574 sum: -28.195466937144236\n"
     ]
    }
   ],
   "source": [
    "# glorot_normal\n",
    "\n",
    "fan_in = 20\n",
    "fan_out = 15\n",
    "scale_value = np.sqrt(2/(fan_in + fan_out))\n",
    "print('scale:', scale_value)\n",
    "weights = np.random.normal(loc=0.0, scale=scale_value, size=(100,100))\n",
    "print(weights)\n",
    "print('weights mean:', weights.mean(), 'std:', weights.std(), 'sum:', weights.sum())"
   ]
  },
  {
   "cell_type": "code",
   "execution_count": 23,
   "id": "ccfa7625",
   "metadata": {
    "execution": {
     "iopub.execute_input": "2024-02-11T08:32:16.405105Z",
     "iopub.status.busy": "2024-02-11T08:32:16.404718Z",
     "iopub.status.idle": "2024-02-11T08:32:16.414423Z",
     "shell.execute_reply": "2024-02-11T08:32:16.412877Z"
    },
    "papermill": {
     "duration": 0.24797,
     "end_time": "2024-02-11T08:32:16.416631",
     "exception": false,
     "start_time": "2024-02-11T08:32:16.168661",
     "status": "completed"
    },
    "tags": []
   },
   "outputs": [
    {
     "name": "stdout",
     "output_type": "stream",
     "text": [
      "limit: 0.5773502691896257\n",
      "[[ 0.1321499  -0.02066947 -0.39340497 ...  0.36967469  0.16052781\n",
      "  -0.2577483 ]\n",
      " [-0.10917129  0.26190757 -0.22948305 ... -0.00187216 -0.06187713\n",
      "  -0.15348943]\n",
      " [-0.28825444  0.3118469   0.37704571 ...  0.16641476  0.50842137\n",
      "  -0.13253254]\n",
      " ...\n",
      " [ 0.40849877  0.2055052   0.53695181 ... -0.49216417  0.3658319\n",
      "   0.16663648]\n",
      " [-0.06887144  0.31651111  0.57367185 ...  0.31686295 -0.09335252\n",
      "   0.56343242]\n",
      " [-0.36607781  0.00952181 -0.56506349 ... -0.16159573 -0.54748612\n",
      "   0.48293096]]\n",
      "weights mean: 0.0044552399444898055 std: 0.3336120633159114 sum: 44.55239944489806\n"
     ]
    }
   ],
   "source": [
    "# glorot_uniform\n",
    "\n",
    "fan_in = 10\n",
    "fan_out = 8\n",
    "limit = np.sqrt(6/(fan_in + fan_out))\n",
    "print('limit:', limit)\n",
    "weights = np.random.uniform(-1*limit, limit, size=(100, 100))\n",
    "print(weights)\n",
    "print('weights mean:',weights.mean(), 'std:', weights.std(), 'sum:', weights.sum())"
   ]
  },
  {
   "cell_type": "markdown",
   "id": "f3bdb2d3",
   "metadata": {
    "papermill": {
     "duration": 0.235737,
     "end_time": "2024-02-11T08:32:16.892116",
     "exception": false,
     "start_time": "2024-02-11T08:32:16.656379",
     "status": "completed"
    },
    "tags": []
   },
   "source": [
    "### He initialization - 정규분포(he_normal), 균일분포(he_uniform)\n",
    "* He initialization의 경우 ReLu 함수 사용 시 weights를 초기화에 적합하다."
   ]
  },
  {
   "cell_type": "code",
   "execution_count": 24,
   "id": "611ea968",
   "metadata": {
    "execution": {
     "iopub.execute_input": "2024-02-11T08:32:17.356851Z",
     "iopub.status.busy": "2024-02-11T08:32:17.355983Z",
     "iopub.status.idle": "2024-02-11T08:32:17.363987Z",
     "shell.execute_reply": "2024-02-11T08:32:17.362913Z"
    },
    "papermill": {
     "duration": 0.241942,
     "end_time": "2024-02-11T08:32:17.366035",
     "exception": false,
     "start_time": "2024-02-11T08:32:17.124093",
     "status": "completed"
    },
    "tags": []
   },
   "outputs": [
    {
     "name": "stdout",
     "output_type": "stream",
     "text": [
      "scale: 0.4472135954999579\n",
      "[[ 0.17410392  0.2119681   0.19565914 ... -0.26562391 -0.40042719\n",
      "  -0.32506492]\n",
      " [ 0.25110814 -0.09070134  0.06157408 ...  0.17758826  0.25574243\n",
      "   0.72148548]\n",
      " [-0.13106285 -0.65969888 -0.67197833 ... -0.31142842 -0.21571434\n",
      "  -0.39942876]\n",
      " ...\n",
      " [ 0.28558657  0.56364634  1.03396779 ...  0.07754488 -0.44901626\n",
      "  -0.16104732]\n",
      " [ 0.47284461 -0.64226323 -0.39120896 ...  0.34147596  0.08985968\n",
      "  -0.02463193]\n",
      " [-0.45124764 -0.20953843  0.07158656 ...  0.02678159 -0.20027343\n",
      "   0.87069743]]\n",
      "weights mean: -0.0012866669539074828 std: 0.4492460964279731 sum: -12.86666953907483\n"
     ]
    }
   ],
   "source": [
    "fan_in = 10\n",
    "fan_out = 8\n",
    "scale_value = np.sqrt(2/(fan_in))\n",
    "print('scale:', scale_value)\n",
    "weights = np.random.normal(loc=0.0, scale=scale_value, size=(100, 100))\n",
    "print(weights)\n",
    "print('weights mean:',weights.mean(), 'std:', weights.std(), 'sum:', weights.sum())"
   ]
  },
  {
   "cell_type": "code",
   "execution_count": 25,
   "id": "822f164b",
   "metadata": {
    "execution": {
     "iopub.execute_input": "2024-02-11T08:32:17.827816Z",
     "iopub.status.busy": "2024-02-11T08:32:17.827441Z",
     "iopub.status.idle": "2024-02-11T08:32:17.835819Z",
     "shell.execute_reply": "2024-02-11T08:32:17.834525Z"
    },
    "papermill": {
     "duration": 0.24085,
     "end_time": "2024-02-11T08:32:17.837812",
     "exception": false,
     "start_time": "2024-02-11T08:32:17.596962",
     "status": "completed"
    },
    "tags": []
   },
   "outputs": [
    {
     "name": "stdout",
     "output_type": "stream",
     "text": [
      "limit: 0.7745966692414834\n",
      "[[-0.34313229 -0.02740215  0.21621291 ...  0.28265856  0.09531116\n",
      "  -0.63795656]\n",
      " [ 0.30725007 -0.17645075 -0.47443848 ... -0.43083171  0.01702947\n",
      "   0.37440718]\n",
      " [-0.40987868  0.14236614  0.57225527 ... -0.43905205  0.28098744\n",
      "  -0.17392008]\n",
      " ...\n",
      " [-0.15055972  0.04902661 -0.0736221  ... -0.17891479  0.01062251\n",
      "   0.75407717]\n",
      " [-0.10367635  0.44509508  0.10619504 ... -0.11071361  0.34725472\n",
      "  -0.76348454]\n",
      " [-0.18550241  0.08958817 -0.44502882 ... -0.48128476  0.03932052\n",
      "   0.60021723]]\n",
      "weights mean: -0.0010680309651993616 std: 0.4466120852931302 sum: -10.680309651993616\n"
     ]
    }
   ],
   "source": [
    "fan_in = 10\n",
    "fan_out = 8\n",
    "limit = np.sqrt(6/(fan_in))\n",
    "print('limit:', limit)\n",
    "weights = np.random.uniform(-1*limit, limit, size=(100,100))\n",
    "print(weights)\n",
    "print('weights mean:', weights.mean(),'std:', weights.std(), 'sum:', weights.sum())"
   ]
  },
  {
   "cell_type": "markdown",
   "id": "6637336e",
   "metadata": {
    "papermill": {
     "duration": 0.24385,
     "end_time": "2024-02-11T08:32:18.315815",
     "exception": false,
     "start_time": "2024-02-11T08:32:18.071965",
     "status": "completed"
    },
    "tags": []
   },
   "source": [
    "### weight 초기화를 He Normal로 변경 후 테스트\n",
    "* keras conv2d의 기본 weights 초기화는 glorot_uniform인데, 이를 he_normal로 변경 후 동일 모델로 성능 검증\n",
    "* label의 경우 one hot encoding 적용"
   ]
  },
  {
   "cell_type": "code",
   "execution_count": 26,
   "id": "bab9708b",
   "metadata": {
    "execution": {
     "iopub.execute_input": "2024-02-11T08:32:18.827284Z",
     "iopub.status.busy": "2024-02-11T08:32:18.826521Z",
     "iopub.status.idle": "2024-02-11T08:32:20.394394Z",
     "shell.execute_reply": "2024-02-11T08:32:20.393402Z"
    },
    "papermill": {
     "duration": 1.849326,
     "end_time": "2024-02-11T08:32:20.396649",
     "exception": false,
     "start_time": "2024-02-11T08:32:18.547323",
     "status": "completed"
    },
    "tags": []
   },
   "outputs": [
    {
     "name": "stdout",
     "output_type": "stream",
     "text": [
      "(50000, 32, 32, 3) (50000, 10) (10000, 32, 32, 3) (10000, 10)\n"
     ]
    }
   ],
   "source": [
    "from tensorflow.keras.datasets import cifar10\n",
    "from tensorflow.keras.utils import to_categorical\n",
    "\n",
    "def get_preprocessed_data(images, labels):\n",
    "    \n",
    "    # 학습과 테스트 이미지 array를 0~1 사잇값으로 scale 및 float32로 타입 변환\n",
    "    images = np.array(images/255.0, dtype=np.float32)\n",
    "    labels = np.array(labels, dtype=np.float32)\n",
    "    labels = labels.squeeze()\n",
    "    \n",
    "    return images, labels\n",
    "\n",
    "def get_preprocessed_ohe(images, labels):\n",
    "    images, labels = get_preprocessed_data(images, labels)\n",
    "    # ohe 적용\n",
    "    oh_labels = to_categorical(labels)\n",
    "    \n",
    "    return images, oh_labels\n",
    "\n",
    "(train_images, train_labels), (test_images, test_labels) = cifar10.load_data()\n",
    "\n",
    "train_images, train_oh_labels = get_preprocessed_ohe(train_images, train_labels)\n",
    "test_images, test_oh_labels = get_preprocessed_ohe(test_images, test_labels)\n",
    "print(train_images.shape, train_oh_labels.shape, test_images.shape, test_oh_labels.shape)"
   ]
  },
  {
   "cell_type": "code",
   "execution_count": 27,
   "id": "bd6a6770",
   "metadata": {
    "execution": {
     "iopub.execute_input": "2024-02-11T08:32:20.865351Z",
     "iopub.status.busy": "2024-02-11T08:32:20.864983Z",
     "iopub.status.idle": "2024-02-11T08:32:20.869242Z",
     "shell.execute_reply": "2024-02-11T08:32:20.868293Z"
    },
    "papermill": {
     "duration": 0.240134,
     "end_time": "2024-02-11T08:32:20.871210",
     "exception": false,
     "start_time": "2024-02-11T08:32:20.631076",
     "status": "completed"
    },
    "tags": []
   },
   "outputs": [],
   "source": [
    "IMAGE_SIZE=32"
   ]
  },
  {
   "cell_type": "code",
   "execution_count": 28,
   "id": "0fd2f2b9",
   "metadata": {
    "execution": {
     "iopub.execute_input": "2024-02-11T08:32:21.338596Z",
     "iopub.status.busy": "2024-02-11T08:32:21.338227Z",
     "iopub.status.idle": "2024-02-11T08:32:21.514201Z",
     "shell.execute_reply": "2024-02-11T08:32:21.513166Z"
    },
    "papermill": {
     "duration": 0.420837,
     "end_time": "2024-02-11T08:32:21.529400",
     "exception": false,
     "start_time": "2024-02-11T08:32:21.108563",
     "status": "completed"
    },
    "tags": []
   },
   "outputs": [
    {
     "name": "stdout",
     "output_type": "stream",
     "text": [
      "Model: \"model_1\"\n",
      "_________________________________________________________________\n",
      " Layer (type)                Output Shape              Param #   \n",
      "=================================================================\n",
      " input_2 (InputLayer)        [(None, 32, 32, 3)]       0         \n",
      "                                                                 \n",
      " conv2d_6 (Conv2D)           (None, 32, 32, 32)        896       \n",
      "                                                                 \n",
      " conv2d_7 (Conv2D)           (None, 32, 32, 32)        9248      \n",
      "                                                                 \n",
      " max_pooling2d_3 (MaxPoolin  (None, 16, 16, 32)        0         \n",
      " g2D)                                                            \n",
      "                                                                 \n",
      " conv2d_8 (Conv2D)           (None, 16, 16, 64)        18496     \n",
      "                                                                 \n",
      " conv2d_9 (Conv2D)           (None, 16, 16, 64)        36928     \n",
      "                                                                 \n",
      " conv2d_10 (Conv2D)          (None, 16, 16, 64)        36928     \n",
      "                                                                 \n",
      " max_pooling2d_4 (MaxPoolin  (None, 8, 8, 64)          0         \n",
      " g2D)                                                            \n",
      "                                                                 \n",
      " conv2d_11 (Conv2D)          (None, 8, 8, 128)         73856     \n",
      "                                                                 \n",
      " conv2d_12 (Conv2D)          (None, 8, 8, 128)         147584    \n",
      "                                                                 \n",
      " max_pooling2d_5 (MaxPoolin  (None, 4, 4, 128)         0         \n",
      " g2D)                                                            \n",
      "                                                                 \n",
      " flatten_1 (Flatten)         (None, 2048)              0         \n",
      "                                                                 \n",
      " dropout_2 (Dropout)         (None, 2048)              0         \n",
      "                                                                 \n",
      " dense_2 (Dense)             (None, 300)               614700    \n",
      "                                                                 \n",
      " dropout_3 (Dropout)         (None, 300)               0         \n",
      "                                                                 \n",
      " dense_3 (Dense)             (None, 10)                3010      \n",
      "                                                                 \n",
      "=================================================================\n",
      "Total params: 941646 (3.59 MB)\n",
      "Trainable params: 941646 (3.59 MB)\n",
      "Non-trainable params: 0 (0.00 Byte)\n",
      "_________________________________________________________________\n"
     ]
    }
   ],
   "source": [
    "from tensorflow.keras.models import Model\n",
    "from tensorflow.keras.layers import Input, Dense, Conv2D, Dropout, Flatten, MaxPooling2D\n",
    "from tensorflow.keras.optimizers import Adam\n",
    "\n",
    "input_tensor = Input(shape=(IMAGE_SIZE, IMAGE_SIZE, 3))\n",
    "\n",
    "x = Conv2D(filters=32, kernel_size=3, padding='same', activation='relu', kernel_initializer='he_normal')(input_tensor)\n",
    "x = Conv2D(filters=32, kernel_size=3, padding='same', activation='relu', kernel_initializer='he_normal')(x)\n",
    "x = MaxPooling2D(pool_size=2)(x)\n",
    "\n",
    "x = Conv2D(filters=64, kernel_size=3, padding='same', activation='relu', kernel_initializer='he_normal')(x)\n",
    "x = Conv2D(filters=64, kernel_size=3, padding='same', activation='relu', kernel_initializer='he_normal')(x)\n",
    "x = Conv2D(filters=64, kernel_size=3, padding='same', activation='relu', kernel_initializer='he_normal')(x)\n",
    "x = MaxPooling2D(pool_size=2)(x)\n",
    "\n",
    "x = Conv2D(filters=128, kernel_size=3, padding='same', activation='relu', kernel_initializer='he_normal')(x)\n",
    "x = Conv2D(filters=128, kernel_size=3, padding='same', activation='relu', kernel_initializer='he_normal')(x)\n",
    "x = MaxPooling2D(pool_size=2)(x)\n",
    "\n",
    "# cifar10의 클래스가 10개라 마지막 classification의 dense layer units 개수는 10개\n",
    "x = Flatten()(x)\n",
    "x = Dropout(rate=0.5)(x)\n",
    "x = Dense(300, activation='relu', kernel_initializer='he_normal')(x)\n",
    "x = Dropout(rate=0.3)(x)\n",
    "output = Dense(10, activation='softmax')(x)\n",
    "\n",
    "kernel_initialized_model = Model(inputs=input_tensor, outputs=output)\n",
    "\n",
    "kernel_initialized_model.summary()"
   ]
  },
  {
   "cell_type": "code",
   "execution_count": 29,
   "id": "a850ab65",
   "metadata": {
    "execution": {
     "iopub.execute_input": "2024-02-11T08:32:22.018816Z",
     "iopub.status.busy": "2024-02-11T08:32:22.018449Z",
     "iopub.status.idle": "2024-02-11T08:35:17.502339Z",
     "shell.execute_reply": "2024-02-11T08:35:17.501312Z"
    },
    "papermill": {
     "duration": 175.733303,
     "end_time": "2024-02-11T08:35:17.504548",
     "exception": false,
     "start_time": "2024-02-11T08:32:21.771245",
     "status": "completed"
    },
    "tags": []
   },
   "outputs": [
    {
     "name": "stdout",
     "output_type": "stream",
     "text": [
      "Epoch 1/30\n",
      "665/665 [==============================] - 9s 9ms/step - loss: 1.6367 - accuracy: 0.3991 - val_loss: 1.3301 - val_accuracy: 0.5212\n",
      "Epoch 2/30\n",
      "665/665 [==============================] - 6s 9ms/step - loss: 1.1957 - accuracy: 0.5696 - val_loss: 1.0365 - val_accuracy: 0.6248\n",
      "Epoch 3/30\n",
      "665/665 [==============================] - 6s 9ms/step - loss: 0.9947 - accuracy: 0.6452 - val_loss: 0.9500 - val_accuracy: 0.6636\n",
      "Epoch 4/30\n",
      "665/665 [==============================] - 6s 8ms/step - loss: 0.8741 - accuracy: 0.6907 - val_loss: 0.7921 - val_accuracy: 0.7227\n",
      "Epoch 5/30\n",
      "665/665 [==============================] - 6s 9ms/step - loss: 0.7749 - accuracy: 0.7260 - val_loss: 0.7801 - val_accuracy: 0.7288\n",
      "Epoch 6/30\n",
      "665/665 [==============================] - 6s 9ms/step - loss: 0.7097 - accuracy: 0.7494 - val_loss: 0.7277 - val_accuracy: 0.7464\n",
      "Epoch 7/30\n",
      "665/665 [==============================] - 6s 8ms/step - loss: 0.6475 - accuracy: 0.7742 - val_loss: 0.6886 - val_accuracy: 0.7604\n",
      "Epoch 8/30\n",
      "665/665 [==============================] - 6s 8ms/step - loss: 0.6073 - accuracy: 0.7845 - val_loss: 0.7046 - val_accuracy: 0.7564\n",
      "Epoch 9/30\n",
      "665/665 [==============================] - 6s 9ms/step - loss: 0.5632 - accuracy: 0.8013 - val_loss: 0.6588 - val_accuracy: 0.7760\n",
      "Epoch 10/30\n",
      "665/665 [==============================] - 6s 9ms/step - loss: 0.5222 - accuracy: 0.8136 - val_loss: 0.6633 - val_accuracy: 0.7732\n",
      "Epoch 11/30\n",
      "665/665 [==============================] - 6s 9ms/step - loss: 0.4980 - accuracy: 0.8224 - val_loss: 0.6715 - val_accuracy: 0.7697\n",
      "Epoch 12/30\n",
      "665/665 [==============================] - 6s 9ms/step - loss: 0.4697 - accuracy: 0.8346 - val_loss: 0.6350 - val_accuracy: 0.7856\n",
      "Epoch 13/30\n",
      "665/665 [==============================] - 6s 9ms/step - loss: 0.4634 - accuracy: 0.8355 - val_loss: 0.6834 - val_accuracy: 0.7776\n",
      "Epoch 14/30\n",
      "665/665 [==============================] - 6s 8ms/step - loss: 0.4352 - accuracy: 0.8463 - val_loss: 0.6481 - val_accuracy: 0.7884\n",
      "Epoch 15/30\n",
      "665/665 [==============================] - 6s 9ms/step - loss: 0.4106 - accuracy: 0.8544 - val_loss: 0.6819 - val_accuracy: 0.7835\n",
      "Epoch 16/30\n",
      "665/665 [==============================] - 6s 9ms/step - loss: 0.3910 - accuracy: 0.8629 - val_loss: 0.6482 - val_accuracy: 0.7872\n",
      "Epoch 17/30\n",
      "665/665 [==============================] - 6s 9ms/step - loss: 0.3787 - accuracy: 0.8662 - val_loss: 0.6347 - val_accuracy: 0.7955\n",
      "Epoch 18/30\n",
      "665/665 [==============================] - 6s 9ms/step - loss: 0.3637 - accuracy: 0.8710 - val_loss: 0.6450 - val_accuracy: 0.7923\n",
      "Epoch 19/30\n",
      "665/665 [==============================] - 6s 8ms/step - loss: 0.3531 - accuracy: 0.8760 - val_loss: 0.6620 - val_accuracy: 0.7983\n",
      "Epoch 20/30\n",
      "665/665 [==============================] - 6s 9ms/step - loss: 0.3464 - accuracy: 0.8767 - val_loss: 0.6736 - val_accuracy: 0.7905\n",
      "Epoch 21/30\n",
      "665/665 [==============================] - 6s 8ms/step - loss: 0.3352 - accuracy: 0.8797 - val_loss: 0.6741 - val_accuracy: 0.7904\n",
      "Epoch 22/30\n",
      "665/665 [==============================] - 6s 8ms/step - loss: 0.3264 - accuracy: 0.8834 - val_loss: 0.6835 - val_accuracy: 0.7901\n",
      "Epoch 23/30\n",
      "665/665 [==============================] - 6s 9ms/step - loss: 0.3227 - accuracy: 0.8864 - val_loss: 0.6909 - val_accuracy: 0.7953\n",
      "Epoch 24/30\n",
      "665/665 [==============================] - 6s 9ms/step - loss: 0.3167 - accuracy: 0.8885 - val_loss: 0.6969 - val_accuracy: 0.7883\n",
      "Epoch 25/30\n",
      "665/665 [==============================] - 6s 9ms/step - loss: 0.3038 - accuracy: 0.8922 - val_loss: 0.6630 - val_accuracy: 0.8036\n",
      "Epoch 26/30\n",
      "665/665 [==============================] - 6s 9ms/step - loss: 0.3001 - accuracy: 0.8938 - val_loss: 0.7114 - val_accuracy: 0.7855\n",
      "Epoch 27/30\n",
      "665/665 [==============================] - 6s 9ms/step - loss: 0.2957 - accuracy: 0.8973 - val_loss: 0.7132 - val_accuracy: 0.7808\n",
      "Epoch 28/30\n",
      "665/665 [==============================] - 6s 9ms/step - loss: 0.2975 - accuracy: 0.8960 - val_loss: 0.7186 - val_accuracy: 0.7941\n",
      "Epoch 29/30\n",
      "665/665 [==============================] - 6s 9ms/step - loss: 0.2903 - accuracy: 0.8988 - val_loss: 0.6816 - val_accuracy: 0.7991\n",
      "Epoch 30/30\n",
      "665/665 [==============================] - 6s 8ms/step - loss: 0.2906 - accuracy: 0.8988 - val_loss: 0.7047 - val_accuracy: 0.7957\n"
     ]
    }
   ],
   "source": [
    "kernel_initialized_model.compile(optimizer=Adam(), loss='categorical_crossentropy', metrics=['accuracy'])\n",
    "history = kernel_initialized_model.fit(x=train_images, y=train_oh_labels, batch_size=64, epochs=30, validation_split=0.15)"
   ]
  },
  {
   "cell_type": "code",
   "execution_count": 30,
   "id": "0f83fb3f",
   "metadata": {
    "execution": {
     "iopub.execute_input": "2024-02-11T08:35:18.477870Z",
     "iopub.status.busy": "2024-02-11T08:35:18.477520Z",
     "iopub.status.idle": "2024-02-11T08:35:20.131160Z",
     "shell.execute_reply": "2024-02-11T08:35:20.130176Z"
    },
    "papermill": {
     "duration": 2.144568,
     "end_time": "2024-02-11T08:35:20.133440",
     "exception": false,
     "start_time": "2024-02-11T08:35:17.988872",
     "status": "completed"
    },
    "tags": []
   },
   "outputs": [
    {
     "name": "stdout",
     "output_type": "stream",
     "text": [
      "313/313 [==============================] - 1s 3ms/step - loss: 0.7296 - accuracy: 0.7904\n"
     ]
    },
    {
     "data": {
      "text/plain": [
       "[0.729576587677002, 0.7904000282287598]"
      ]
     },
     "execution_count": 30,
     "metadata": {},
     "output_type": "execute_result"
    },
    {
     "data": {
      "image/png": "[encoded data removed]",
      "text/plain": [
       "<Figure size 600x600 with 1 Axes>"
      ]
     },
     "metadata": {},
     "output_type": "display_data"
    }
   ],
   "source": [
    "import matplotlib.pyplot as plt\n",
    "%matplotlib inline\n",
    "\n",
    "def show_history(history):\n",
    "    plt.figure(figsize=(6, 6))\n",
    "    plt.yticks(np.arange(0, 1, 0.05))\n",
    "    plt.plot(history.history['accuracy'], label='train')\n",
    "    plt.plot(history.history['val_accuracy'], label='valid')\n",
    "    plt.legend()\n",
    "\n",
    "show_history(history)\n",
    "\n",
    "# 테스트 데이터로 성능 평가\n",
    "kernel_initialized_model.evaluate(test_images, test_oh_labels)"
   ]
  },
  {
   "cell_type": "markdown",
   "id": "84fa6e60",
   "metadata": {
    "papermill": {
     "duration": 0.478766,
     "end_time": "2024-02-11T08:35:21.136015",
     "exception": false,
     "start_time": "2024-02-11T08:35:20.657249",
     "status": "completed"
    },
    "tags": []
   },
   "source": [
    "### Batch Normalization 적용\n",
    "* internal covariate shift 해결(신경망 내부 각 층을 통과하면서 입력 데이터 분포가 조금씩 달라지는 현상)"
   ]
  },
  {
   "cell_type": "code",
   "execution_count": 31,
   "id": "a594914d",
   "metadata": {
    "execution": {
     "iopub.execute_input": "2024-02-11T08:35:22.097776Z",
     "iopub.status.busy": "2024-02-11T08:35:22.096927Z",
     "iopub.status.idle": "2024-02-11T08:35:22.368697Z",
     "shell.execute_reply": "2024-02-11T08:35:22.367703Z"
    },
    "papermill": {
     "duration": 0.770036,
     "end_time": "2024-02-11T08:35:22.383945",
     "exception": false,
     "start_time": "2024-02-11T08:35:21.613909",
     "status": "completed"
    },
    "tags": []
   },
   "outputs": [
    {
     "name": "stdout",
     "output_type": "stream",
     "text": [
      "Model: \"model_2\"\n",
      "_________________________________________________________________\n",
      " Layer (type)                Output Shape              Param #   \n",
      "=================================================================\n",
      " input_3 (InputLayer)        [(None, 32, 32, 3)]       0         \n",
      "                                                                 \n",
      " conv2d_13 (Conv2D)          (None, 32, 32, 32)        896       \n",
      "                                                                 \n",
      " batch_normalization (Batch  (None, 32, 32, 32)        128       \n",
      " Normalization)                                                  \n",
      "                                                                 \n",
      " activation_1 (Activation)   (None, 32, 32, 32)        0         \n",
      "                                                                 \n",
      " conv2d_14 (Conv2D)          (None, 32, 32, 32)        9248      \n",
      "                                                                 \n",
      " batch_normalization_1 (Bat  (None, 32, 32, 32)        128       \n",
      " chNormalization)                                                \n",
      "                                                                 \n",
      " activation_2 (Activation)   (None, 32, 32, 32)        0         \n",
      "                                                                 \n",
      " max_pooling2d_6 (MaxPoolin  (None, 16, 16, 32)        0         \n",
      " g2D)                                                            \n",
      "                                                                 \n",
      " conv2d_15 (Conv2D)          (None, 16, 16, 64)        18496     \n",
      "                                                                 \n",
      " batch_normalization_2 (Bat  (None, 16, 16, 64)        256       \n",
      " chNormalization)                                                \n",
      "                                                                 \n",
      " activation_3 (Activation)   (None, 16, 16, 64)        0         \n",
      "                                                                 \n",
      " conv2d_16 (Conv2D)          (None, 16, 16, 64)        36928     \n",
      "                                                                 \n",
      " activation_4 (Activation)   (None, 16, 16, 64)        0         \n",
      "                                                                 \n",
      " activation_5 (Activation)   (None, 16, 16, 64)        0         \n",
      "                                                                 \n",
      " max_pooling2d_7 (MaxPoolin  (None, 8, 8, 64)          0         \n",
      " g2D)                                                            \n",
      "                                                                 \n",
      " conv2d_17 (Conv2D)          (None, 8, 8, 128)         73856     \n",
      "                                                                 \n",
      " batch_normalization_3 (Bat  (None, 8, 8, 128)         512       \n",
      " chNormalization)                                                \n",
      "                                                                 \n",
      " activation_6 (Activation)   (None, 8, 8, 128)         0         \n",
      "                                                                 \n",
      " conv2d_18 (Conv2D)          (None, 8, 8, 128)         147584    \n",
      "                                                                 \n",
      " batch_normalization_4 (Bat  (None, 8, 8, 128)         512       \n",
      " chNormalization)                                                \n",
      "                                                                 \n",
      " activation_7 (Activation)   (None, 8, 8, 128)         0         \n",
      "                                                                 \n",
      " max_pooling2d_8 (MaxPoolin  (None, 4, 4, 128)         0         \n",
      " g2D)                                                            \n",
      "                                                                 \n",
      " flatten_2 (Flatten)         (None, 2048)              0         \n",
      "                                                                 \n",
      " dropout_4 (Dropout)         (None, 2048)              0         \n",
      "                                                                 \n",
      " dense_4 (Dense)             (None, 300)               614700    \n",
      "                                                                 \n",
      " dropout_5 (Dropout)         (None, 300)               0         \n",
      "                                                                 \n",
      " dense_5 (Dense)             (None, 10)                3010      \n",
      "                                                                 \n",
      "=================================================================\n",
      "Total params: 906254 (3.46 MB)\n",
      "Trainable params: 905486 (3.45 MB)\n",
      "Non-trainable params: 768 (3.00 KB)\n",
      "_________________________________________________________________\n"
     ]
    }
   ],
   "source": [
    "from tensorflow.keras.models import Model\n",
    "from tensorflow.keras.layers import Input, Dense, Conv2D, Dropout, Flatten, MaxPooling2D, BatchNormalization, Activation\n",
    "from tensorflow.keras.optimizers import Adam\n",
    "\n",
    "input_tensor= Input(shape=(IMAGE_SIZE, IMAGE_SIZE, 3))\n",
    "\n",
    "x = Conv2D(filters=32, kernel_size=3, padding='same')(input_tensor)\n",
    "x = BatchNormalization()(x)\n",
    "x = Activation('relu')(x)\n",
    "\n",
    "x = Conv2D(filters=32, kernel_size=3, padding='same')(x)\n",
    "x = BatchNormalization()(x)\n",
    "x = Activation('relu')(x)\n",
    "x = MaxPooling2D(pool_size=2)(x)\n",
    "\n",
    "x = Conv2D(filters=64, kernel_size=3, padding='same')(x)\n",
    "x = BatchNormalization()(x)\n",
    "x = Activation('relu')(x)\n",
    "\n",
    "x = Conv2D(filters=64, kernel_size=3, padding='same')(x)\n",
    "x = Activation('relu')(x)\n",
    "x = Activation('relu')(x)\n",
    "x = MaxPooling2D(pool_size=2)(x)\n",
    "\n",
    "x = Conv2D(filters=128, kernel_size=3, padding='same')(x)\n",
    "x = BatchNormalization()(x)\n",
    "x = Activation('relu')(x)\n",
    "\n",
    "x = Conv2D(filters=128, kernel_size=3, padding='same')(x)\n",
    "x = BatchNormalization()(x)\n",
    "x = Activation('relu')(x)\n",
    "x = MaxPooling2D(pool_size=2)(x)\n",
    "\n",
    "x = Flatten()(x)\n",
    "x = Dropout(rate=0.5)(x)\n",
    "x = Dense(300, activation='relu')(x)\n",
    "x = Dropout(rate=0.3)(x)\n",
    "output = Dense(10, activation='softmax')(x)\n",
    "\n",
    "batch_normalized_model = Model(inputs=input_tensor, outputs=output)\n",
    "\n",
    "batch_normalized_model.summary()"
   ]
  },
  {
   "cell_type": "code",
   "execution_count": 32,
   "id": "b09d1ad1",
   "metadata": {
    "execution": {
     "iopub.execute_input": "2024-02-11T08:35:23.398868Z",
     "iopub.status.busy": "2024-02-11T08:35:23.398225Z",
     "iopub.status.idle": "2024-02-11T08:38:37.327308Z",
     "shell.execute_reply": "2024-02-11T08:38:37.326228Z"
    },
    "papermill": {
     "duration": 194.458839,
     "end_time": "2024-02-11T08:38:37.329380",
     "exception": false,
     "start_time": "2024-02-11T08:35:22.870541",
     "status": "completed"
    },
    "tags": []
   },
   "outputs": [
    {
     "name": "stdout",
     "output_type": "stream",
     "text": [
      "Epoch 1/30\n",
      "665/665 [==============================] - 11s 11ms/step - loss: 1.5858 - accuracy: 0.4239 - val_loss: 1.5147 - val_accuracy: 0.4712\n",
      "Epoch 2/30\n",
      "665/665 [==============================] - 6s 9ms/step - loss: 1.1118 - accuracy: 0.6030 - val_loss: 1.4788 - val_accuracy: 0.5160\n",
      "Epoch 3/30\n",
      "665/665 [==============================] - 6s 9ms/step - loss: 0.9144 - accuracy: 0.6797 - val_loss: 0.8912 - val_accuracy: 0.6856\n",
      "Epoch 4/30\n",
      "665/665 [==============================] - 6s 9ms/step - loss: 0.7957 - accuracy: 0.7205 - val_loss: 0.7683 - val_accuracy: 0.7317\n",
      "Epoch 5/30\n",
      "665/665 [==============================] - 6s 9ms/step - loss: 0.7181 - accuracy: 0.7496 - val_loss: 0.7317 - val_accuracy: 0.7464\n",
      "Epoch 6/30\n",
      "665/665 [==============================] - 6s 9ms/step - loss: 0.6479 - accuracy: 0.7754 - val_loss: 0.7633 - val_accuracy: 0.7336\n",
      "Epoch 7/30\n",
      "665/665 [==============================] - 6s 10ms/step - loss: 0.5933 - accuracy: 0.7952 - val_loss: 0.8373 - val_accuracy: 0.7353\n",
      "Epoch 8/30\n",
      "665/665 [==============================] - 6s 9ms/step - loss: 0.5400 - accuracy: 0.8144 - val_loss: 1.0123 - val_accuracy: 0.6861\n",
      "Epoch 9/30\n",
      "665/665 [==============================] - 6s 9ms/step - loss: 0.5040 - accuracy: 0.8281 - val_loss: 0.7005 - val_accuracy: 0.7771\n",
      "Epoch 10/30\n",
      "665/665 [==============================] - 6s 9ms/step - loss: 0.4571 - accuracy: 0.8434 - val_loss: 0.7262 - val_accuracy: 0.7717\n",
      "Epoch 11/30\n",
      "665/665 [==============================] - 6s 9ms/step - loss: 0.4230 - accuracy: 0.8539 - val_loss: 0.5991 - val_accuracy: 0.7933\n",
      "Epoch 12/30\n",
      "665/665 [==============================] - 6s 10ms/step - loss: 0.3867 - accuracy: 0.8681 - val_loss: 0.6478 - val_accuracy: 0.7967\n",
      "Epoch 13/30\n",
      "665/665 [==============================] - 6s 9ms/step - loss: 0.3540 - accuracy: 0.8784 - val_loss: 0.6748 - val_accuracy: 0.7879\n",
      "Epoch 14/30\n",
      "665/665 [==============================] - 6s 9ms/step - loss: 0.3336 - accuracy: 0.8864 - val_loss: 0.7198 - val_accuracy: 0.7829\n",
      "Epoch 15/30\n",
      "665/665 [==============================] - 6s 9ms/step - loss: 0.3141 - accuracy: 0.8933 - val_loss: 0.6429 - val_accuracy: 0.7972\n",
      "Epoch 16/30\n",
      "665/665 [==============================] - 6s 9ms/step - loss: 0.2908 - accuracy: 0.8982 - val_loss: 0.5449 - val_accuracy: 0.8291\n",
      "Epoch 17/30\n",
      "665/665 [==============================] - 6s 9ms/step - loss: 0.2646 - accuracy: 0.9088 - val_loss: 0.8689 - val_accuracy: 0.7657\n",
      "Epoch 18/30\n",
      "665/665 [==============================] - 6s 9ms/step - loss: 0.2516 - accuracy: 0.9128 - val_loss: 0.6024 - val_accuracy: 0.8220\n",
      "Epoch 19/30\n",
      "665/665 [==============================] - 6s 9ms/step - loss: 0.2284 - accuracy: 0.9207 - val_loss: 0.6101 - val_accuracy: 0.8289\n",
      "Epoch 20/30\n",
      "665/665 [==============================] - 6s 9ms/step - loss: 0.2211 - accuracy: 0.9237 - val_loss: 0.6168 - val_accuracy: 0.8245\n",
      "Epoch 21/30\n",
      "665/665 [==============================] - 6s 9ms/step - loss: 0.2072 - accuracy: 0.9272 - val_loss: 0.6368 - val_accuracy: 0.8252\n",
      "Epoch 22/30\n",
      "665/665 [==============================] - 6s 10ms/step - loss: 0.2000 - accuracy: 0.9311 - val_loss: 0.6647 - val_accuracy: 0.8128\n",
      "Epoch 23/30\n",
      "665/665 [==============================] - 6s 9ms/step - loss: 0.1908 - accuracy: 0.9337 - val_loss: 0.7969 - val_accuracy: 0.8039\n",
      "Epoch 24/30\n",
      "665/665 [==============================] - 6s 10ms/step - loss: 0.1801 - accuracy: 0.9387 - val_loss: 0.6528 - val_accuracy: 0.8247\n",
      "Epoch 25/30\n",
      "665/665 [==============================] - 6s 9ms/step - loss: 0.1711 - accuracy: 0.9420 - val_loss: 0.6678 - val_accuracy: 0.8211\n",
      "Epoch 26/30\n",
      "665/665 [==============================] - 6s 9ms/step - loss: 0.1575 - accuracy: 0.9472 - val_loss: 0.6957 - val_accuracy: 0.8180\n",
      "Epoch 27/30\n",
      "665/665 [==============================] - 6s 10ms/step - loss: 0.1438 - accuracy: 0.9493 - val_loss: 0.7465 - val_accuracy: 0.8233\n",
      "Epoch 28/30\n",
      "665/665 [==============================] - 6s 9ms/step - loss: 0.1614 - accuracy: 0.9445 - val_loss: 0.7520 - val_accuracy: 0.8096\n",
      "Epoch 29/30\n",
      "665/665 [==============================] - 6s 9ms/step - loss: 0.1414 - accuracy: 0.9512 - val_loss: 0.7301 - val_accuracy: 0.8208\n",
      "Epoch 30/30\n",
      "665/665 [==============================] - 6s 9ms/step - loss: 0.1332 - accuracy: 0.9543 - val_loss: 0.8758 - val_accuracy: 0.8011\n"
     ]
    }
   ],
   "source": [
    "batch_normalized_model.compile(optimizer=Adam(), loss='categorical_crossentropy', metrics=['accuracy'])\n",
    "history = batch_normalized_model.fit(x=train_images, y=train_oh_labels, batch_size=64, epochs=30, validation_split=0.15)"
   ]
  },
  {
   "cell_type": "code",
   "execution_count": 33,
   "id": "b6ecd153",
   "metadata": {
    "execution": {
     "iopub.execute_input": "2024-02-11T08:38:38.870319Z",
     "iopub.status.busy": "2024-02-11T08:38:38.869949Z",
     "iopub.status.idle": "2024-02-11T08:38:41.137464Z",
     "shell.execute_reply": "2024-02-11T08:38:41.136540Z"
    },
    "papermill": {
     "duration": 3.048679,
     "end_time": "2024-02-11T08:38:41.139671",
     "exception": false,
     "start_time": "2024-02-11T08:38:38.090992",
     "status": "completed"
    },
    "tags": []
   },
   "outputs": [
    {
     "name": "stdout",
     "output_type": "stream",
     "text": [
      "313/313 [==============================] - 2s 4ms/step - loss: 0.8933 - accuracy: 0.7985\n"
     ]
    },
    {
     "data": {
      "text/plain": [
       "[0.8933385014533997, 0.7985000014305115]"
      ]
     },
     "execution_count": 33,
     "metadata": {},
     "output_type": "execute_result"
    },
    {
     "data": {
      "image/png": "[encoded data removed]",
      "text/plain": [
       "<Figure size 600x600 with 1 Axes>"
      ]
     },
     "metadata": {},
     "output_type": "display_data"
    }
   ],
   "source": [
    "show_history(history)\n",
    "\n",
    "batch_normalized_model.evaluate(test_images, test_oh_labels)"
   ]
  },
  {
   "cell_type": "markdown",
   "id": "b0768145",
   "metadata": {
    "papermill": {
     "duration": 0.756786,
     "end_time": "2024-02-11T08:38:42.707818",
     "exception": false,
     "start_time": "2024-02-11T08:38:41.951032",
     "status": "completed"
    },
    "tags": []
   },
   "source": [
    "### He Normal Batch Normalization 동시 적용"
   ]
  },
  {
   "cell_type": "code",
   "execution_count": 34,
   "id": "db4f0a4f",
   "metadata": {
    "execution": {
     "iopub.execute_input": "2024-02-11T08:38:44.316341Z",
     "iopub.status.busy": "2024-02-11T08:38:44.315976Z",
     "iopub.status.idle": "2024-02-11T08:38:44.588250Z",
     "shell.execute_reply": "2024-02-11T08:38:44.587182Z"
    },
    "papermill": {
     "duration": 1.100177,
     "end_time": "2024-02-11T08:38:44.611744",
     "exception": false,
     "start_time": "2024-02-11T08:38:43.511567",
     "status": "completed"
    },
    "tags": []
   },
   "outputs": [
    {
     "name": "stdout",
     "output_type": "stream",
     "text": [
      "Model: \"model_3\"\n",
      "_________________________________________________________________\n",
      " Layer (type)                Output Shape              Param #   \n",
      "=================================================================\n",
      " input_4 (InputLayer)        [(None, 32, 32, 3)]       0         \n",
      "                                                                 \n",
      " conv2d_19 (Conv2D)          (None, 32, 32, 32)        896       \n",
      "                                                                 \n",
      " batch_normalization_5 (Bat  (None, 32, 32, 32)        128       \n",
      " chNormalization)                                                \n",
      "                                                                 \n",
      " activation_8 (Activation)   (None, 32, 32, 32)        0         \n",
      "                                                                 \n",
      " conv2d_20 (Conv2D)          (None, 32, 32, 32)        9248      \n",
      "                                                                 \n",
      " batch_normalization_6 (Bat  (None, 32, 32, 32)        128       \n",
      " chNormalization)                                                \n",
      "                                                                 \n",
      " activation_9 (Activation)   (None, 32, 32, 32)        0         \n",
      "                                                                 \n",
      " max_pooling2d_9 (MaxPoolin  (None, 16, 16, 32)        0         \n",
      " g2D)                                                            \n",
      "                                                                 \n",
      " conv2d_21 (Conv2D)          (None, 16, 16, 64)        18496     \n",
      "                                                                 \n",
      " batch_normalization_7 (Bat  (None, 16, 16, 64)        256       \n",
      " chNormalization)                                                \n",
      "                                                                 \n",
      " activation_10 (Activation)  (None, 16, 16, 64)        0         \n",
      "                                                                 \n",
      " conv2d_22 (Conv2D)          (None, 16, 16, 64)        36928     \n",
      "                                                                 \n",
      " activation_11 (Activation)  (None, 16, 16, 64)        0         \n",
      "                                                                 \n",
      " activation_12 (Activation)  (None, 16, 16, 64)        0         \n",
      "                                                                 \n",
      " max_pooling2d_10 (MaxPooli  (None, 8, 8, 64)          0         \n",
      " ng2D)                                                           \n",
      "                                                                 \n",
      " conv2d_23 (Conv2D)          (None, 8, 8, 128)         73856     \n",
      "                                                                 \n",
      " batch_normalization_8 (Bat  (None, 8, 8, 128)         512       \n",
      " chNormalization)                                                \n",
      "                                                                 \n",
      " activation_13 (Activation)  (None, 8, 8, 128)         0         \n",
      "                                                                 \n",
      " conv2d_24 (Conv2D)          (None, 8, 8, 128)         147584    \n",
      "                                                                 \n",
      " batch_normalization_9 (Bat  (None, 8, 8, 128)         512       \n",
      " chNormalization)                                                \n",
      "                                                                 \n",
      " activation_14 (Activation)  (None, 8, 8, 128)         0         \n",
      "                                                                 \n",
      " max_pooling2d_11 (MaxPooli  (None, 4, 4, 128)         0         \n",
      " ng2D)                                                           \n",
      "                                                                 \n",
      " flatten (Flatten)           (None, 2048)              0         \n",
      "                                                                 \n",
      " dropout_6 (Dropout)         (None, 2048)              0         \n",
      "                                                                 \n",
      " fc1 (Dense)                 (None, 300)               614700    \n",
      "                                                                 \n",
      " dropout_7 (Dropout)         (None, 300)               0         \n",
      "                                                                 \n",
      " output (Dense)              (None, 10)                3010      \n",
      "                                                                 \n",
      "=================================================================\n",
      "Total params: 906254 (3.46 MB)\n",
      "Trainable params: 905486 (3.45 MB)\n",
      "Non-trainable params: 768 (3.00 KB)\n",
      "_________________________________________________________________\n"
     ]
    }
   ],
   "source": [
    "from tensorflow.keras.models import Model\n",
    "from tensorflow.keras.layers import Input, Dense, Conv2D, Dropout, Flatten, Activation, MaxPooling2D, BatchNormalization\n",
    "from tensorflow.keras.optimizers import Adam\n",
    "\n",
    "input_tensor = Input(shape=(IMAGE_SIZE, IMAGE_SIZE, 3))\n",
    "\n",
    "x = Conv2D(filters=32, kernel_size=3, padding='same', kernel_initializer='he_normal')(input_tensor)\n",
    "x = BatchNormalization()(x)\n",
    "x = Activation('relu')(x)\n",
    "\n",
    "x = Conv2D(filters=32, kernel_size=3, padding='same', kernel_initializer='he_normal')(x)\n",
    "x = BatchNormalization()(x)\n",
    "x = Activation('relu')(x)\n",
    "x = MaxPooling2D(pool_size=2)(x)\n",
    "\n",
    "x = Conv2D(filters=64, kernel_size=3, padding='same', kernel_initializer='he_normal')(x)\n",
    "x = BatchNormalization()(x)\n",
    "x = Activation('relu')(x)\n",
    "\n",
    "x = Conv2D(filters=64, kernel_size=3, padding='same', kernel_initializer='he_normal')(x)\n",
    "x = Activation('relu')(x)\n",
    "x = Activation('relu')(x)\n",
    "x = MaxPooling2D(pool_size=2)(x)\n",
    "\n",
    "x = Conv2D(filters=128, kernel_size=3, padding='same', kernel_initializer='he_normal')(x)\n",
    "x = BatchNormalization()(x)\n",
    "x = Activation('relu')(x)\n",
    "\n",
    "x = Conv2D(filters=128, kernel_size=3, padding='same', kernel_initializer='he_normal')(x)\n",
    "x = BatchNormalization()(x)\n",
    "x = Activation('relu')(x)\n",
    "x = MaxPooling2D(pool_size=2)(x)\n",
    "\n",
    "x = Flatten(name='flatten')(x)\n",
    "x = Dropout(rate=0.5)(x)\n",
    "x = Dense(300, activation='relu', name='fc1')(x)\n",
    "x = Dropout(rate=0.3)(x)\n",
    "output = Dense(10, activation='softmax', name='output')(x)\n",
    "\n",
    "model = Model(inputs=input_tensor, outputs=output)\n",
    "\n",
    "model.summary()"
   ]
  },
  {
   "cell_type": "code",
   "execution_count": 35,
   "id": "5eaed75e",
   "metadata": {
    "execution": {
     "iopub.execute_input": "2024-02-11T08:38:46.205549Z",
     "iopub.status.busy": "2024-02-11T08:38:46.205143Z",
     "iopub.status.idle": "2024-02-11T08:42:00.677352Z",
     "shell.execute_reply": "2024-02-11T08:42:00.676314Z"
    },
    "papermill": {
     "duration": 195.247109,
     "end_time": "2024-02-11T08:42:00.679774",
     "exception": false,
     "start_time": "2024-02-11T08:38:45.432665",
     "status": "completed"
    },
    "tags": []
   },
   "outputs": [
    {
     "name": "stdout",
     "output_type": "stream",
     "text": [
      "Epoch 1/30\n",
      "665/665 [==============================] - 10s 10ms/step - loss: 1.5557 - accuracy: 0.4357 - val_loss: 1.1790 - val_accuracy: 0.5697\n",
      "Epoch 2/30\n",
      "665/665 [==============================] - 6s 9ms/step - loss: 1.1334 - accuracy: 0.5943 - val_loss: 1.0572 - val_accuracy: 0.6276\n",
      "Epoch 3/30\n",
      "665/665 [==============================] - 6s 9ms/step - loss: 0.9394 - accuracy: 0.6726 - val_loss: 1.0771 - val_accuracy: 0.6245\n",
      "Epoch 4/30\n",
      "665/665 [==============================] - 7s 10ms/step - loss: 0.8128 - accuracy: 0.7203 - val_loss: 0.7728 - val_accuracy: 0.7299\n",
      "Epoch 5/30\n",
      "665/665 [==============================] - 6s 9ms/step - loss: 0.7342 - accuracy: 0.7442 - val_loss: 0.8765 - val_accuracy: 0.6871\n",
      "Epoch 6/30\n",
      "665/665 [==============================] - 6s 9ms/step - loss: 0.6694 - accuracy: 0.7712 - val_loss: 0.7060 - val_accuracy: 0.7519\n",
      "Epoch 7/30\n",
      "665/665 [==============================] - 6s 9ms/step - loss: 0.5998 - accuracy: 0.7928 - val_loss: 0.7907 - val_accuracy: 0.7420\n",
      "Epoch 8/30\n",
      "665/665 [==============================] - 6s 9ms/step - loss: 0.5523 - accuracy: 0.8092 - val_loss: 0.7479 - val_accuracy: 0.7517\n",
      "Epoch 9/30\n",
      "665/665 [==============================] - 7s 10ms/step - loss: 0.5069 - accuracy: 0.8257 - val_loss: 0.7270 - val_accuracy: 0.7557\n",
      "Epoch 10/30\n",
      "665/665 [==============================] - 6s 9ms/step - loss: 0.4721 - accuracy: 0.8381 - val_loss: 0.8388 - val_accuracy: 0.7389\n",
      "Epoch 11/30\n",
      "665/665 [==============================] - 6s 9ms/step - loss: 0.4275 - accuracy: 0.8519 - val_loss: 0.8391 - val_accuracy: 0.7417\n",
      "Epoch 12/30\n",
      "665/665 [==============================] - 6s 9ms/step - loss: 0.3967 - accuracy: 0.8621 - val_loss: 0.8863 - val_accuracy: 0.7500\n",
      "Epoch 13/30\n",
      "665/665 [==============================] - 6s 9ms/step - loss: 0.3735 - accuracy: 0.8707 - val_loss: 0.6368 - val_accuracy: 0.7916\n",
      "Epoch 14/30\n",
      "665/665 [==============================] - 7s 10ms/step - loss: 0.3344 - accuracy: 0.8846 - val_loss: 0.6044 - val_accuracy: 0.8121\n",
      "Epoch 15/30\n",
      "665/665 [==============================] - 6s 9ms/step - loss: 0.3192 - accuracy: 0.8883 - val_loss: 0.5795 - val_accuracy: 0.8164\n",
      "Epoch 16/30\n",
      "665/665 [==============================] - 6s 9ms/step - loss: 0.2962 - accuracy: 0.8977 - val_loss: 0.5808 - val_accuracy: 0.8195\n",
      "Epoch 17/30\n",
      "665/665 [==============================] - 6s 9ms/step - loss: 0.2812 - accuracy: 0.9033 - val_loss: 0.6420 - val_accuracy: 0.8117\n",
      "Epoch 18/30\n",
      "665/665 [==============================] - 6s 9ms/step - loss: 0.2622 - accuracy: 0.9091 - val_loss: 0.5996 - val_accuracy: 0.8148\n",
      "Epoch 19/30\n",
      "665/665 [==============================] - 6s 10ms/step - loss: 0.2445 - accuracy: 0.9158 - val_loss: 0.7937 - val_accuracy: 0.7829\n",
      "Epoch 20/30\n",
      "665/665 [==============================] - 6s 9ms/step - loss: 0.2279 - accuracy: 0.9206 - val_loss: 0.8444 - val_accuracy: 0.7927\n",
      "Epoch 21/30\n",
      "665/665 [==============================] - 6s 9ms/step - loss: 0.2114 - accuracy: 0.9272 - val_loss: 1.1096 - val_accuracy: 0.7512\n",
      "Epoch 22/30\n",
      "665/665 [==============================] - 6s 9ms/step - loss: 0.2101 - accuracy: 0.9273 - val_loss: 0.7847 - val_accuracy: 0.8023\n",
      "Epoch 23/30\n",
      "665/665 [==============================] - 6s 9ms/step - loss: 0.1858 - accuracy: 0.9362 - val_loss: 0.7915 - val_accuracy: 0.8055\n",
      "Epoch 24/30\n",
      "665/665 [==============================] - 7s 10ms/step - loss: 0.1857 - accuracy: 0.9372 - val_loss: 0.8850 - val_accuracy: 0.7919\n",
      "Epoch 25/30\n",
      "665/665 [==============================] - 6s 9ms/step - loss: 0.1878 - accuracy: 0.9353 - val_loss: 0.6906 - val_accuracy: 0.8091\n",
      "Epoch 26/30\n",
      "665/665 [==============================] - 6s 9ms/step - loss: 0.1719 - accuracy: 0.9421 - val_loss: 0.7855 - val_accuracy: 0.7976\n",
      "Epoch 27/30\n",
      "665/665 [==============================] - 6s 9ms/step - loss: 0.1622 - accuracy: 0.9442 - val_loss: 0.7289 - val_accuracy: 0.8064\n",
      "Epoch 28/30\n",
      "665/665 [==============================] - 6s 9ms/step - loss: 0.1576 - accuracy: 0.9459 - val_loss: 0.6346 - val_accuracy: 0.8320\n",
      "Epoch 29/30\n",
      "665/665 [==============================] - 7s 10ms/step - loss: 0.1477 - accuracy: 0.9502 - val_loss: 0.7014 - val_accuracy: 0.8215\n",
      "Epoch 30/30\n",
      "665/665 [==============================] - 6s 9ms/step - loss: 0.1391 - accuracy: 0.9523 - val_loss: 0.6912 - val_accuracy: 0.8303\n"
     ]
    }
   ],
   "source": [
    "model.compile(optimizer=Adam(), loss='categorical_crossentropy', metrics=['accuracy'])\n",
    "history = model.fit(x=train_images, y=train_oh_labels, batch_size=64, epochs=30, validation_split=0.15)"
   ]
  },
  {
   "cell_type": "code",
   "execution_count": 36,
   "id": "51538e4c",
   "metadata": {
    "execution": {
     "iopub.execute_input": "2024-02-11T08:42:02.835956Z",
     "iopub.status.busy": "2024-02-11T08:42:02.835335Z",
     "iopub.status.idle": "2024-02-11T08:42:04.713397Z",
     "shell.execute_reply": "2024-02-11T08:42:04.712500Z"
    },
    "papermill": {
     "duration": 2.920612,
     "end_time": "2024-02-11T08:42:04.715621",
     "exception": false,
     "start_time": "2024-02-11T08:42:01.795009",
     "status": "completed"
    },
    "tags": []
   },
   "outputs": [
    {
     "name": "stdout",
     "output_type": "stream",
     "text": [
      "313/313 [==============================] - 1s 4ms/step - loss: 0.7359 - accuracy: 0.8180\n"
     ]
    },
    {
     "data": {
      "text/plain": [
       "[0.7359089851379395, 0.8180000185966492]"
      ]
     },
     "execution_count": 36,
     "metadata": {},
     "output_type": "execute_result"
    },
    {
     "data": {
      "image/png": "[encoded data removed]",
      "text/plain": [
       "<Figure size 600x600 with 1 Axes>"
      ]
     },
     "metadata": {},
     "output_type": "display_data"
    }
   ],
   "source": [
    "show_history(history)\n",
    "\n",
    "model.evaluate(test_images, test_oh_labels)"
   ]
  },
  {
   "cell_type": "code",
   "execution_count": null,
   "id": "fe5a5d31",
   "metadata": {
    "papermill": {
     "duration": 1.103928,
     "end_time": "2024-02-11T08:42:06.869669",
     "exception": false,
     "start_time": "2024-02-11T08:42:05.765741",
     "status": "completed"
    },
    "tags": []
   },
   "outputs": [],
   "source": []
  }
 ],
 "metadata": {
  "kaggle": {
   "accelerator": "nvidiaTeslaT4",
   "dataSources": [],
   "dockerImageVersionId": 30648,
   "isGpuEnabled": true,
   "isInternetEnabled": true,
   "language": "python",
   "sourceType": "notebook"
  },
  "kernelspec": {
   "display_name": "Python 3",
   "language": "python",
   "name": "python3"
  },
  "language_info": {
   "codemirror_mode": {
    "name": "ipython",
    "version": 3
   },
   "file_extension": ".py",
   "mimetype": "text/x-python",
   "name": "python",
   "nbconvert_exporter": "python",
   "pygments_lexer": "ipython3",
   "version": "3.10.13"
  },
  "papermill": {
   "default_parameters": {},
   "duration": 789.105405,
   "end_time": "2024-02-11T08:42:10.969392",
   "environment_variables": {},
   "exception": null,
   "input_path": "__notebook__.ipynb",
   "output_path": "__notebook__.ipynb",
   "parameters": {},
   "start_time": "2024-02-11T08:29:01.863987",
   "version": "2.5.0"
  }
 },
 "nbformat": 4,
 "nbformat_minor": 5
}
